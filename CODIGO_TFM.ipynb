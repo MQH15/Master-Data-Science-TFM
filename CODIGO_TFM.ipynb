{
 "cells": [
  {
   "cell_type": "markdown",
   "metadata": {},
   "source": [
    "# TFM"
   ]
  },
  {
   "cell_type": "code",
   "execution_count": 1,
   "metadata": {},
   "outputs": [],
   "source": [
    "import pandas as pd\n",
    "import numpy as np\n",
    "import matplotlib.pyplot as plt"
   ]
  },
  {
   "cell_type": "code",
   "execution_count": 2,
   "metadata": {},
   "outputs": [],
   "source": [
    "pd.set_option('display.max_rows', 2000)\n",
    "pd.set_option('display.max_columns', 500)"
   ]
  },
  {
   "cell_type": "code",
   "execution_count": 3,
   "metadata": {},
   "outputs": [],
   "source": [
    "datos1 = pd.read_csv(\"/home/michael/Kschool/TFM/Importe_Taxi/2018_Green_Taxi_Trip_Data.csv\")"
   ]
  },
  {
   "cell_type": "code",
   "execution_count": 4,
   "metadata": {},
   "outputs": [
    {
     "data": {
      "text/plain": [
       "(8807303, 19)"
      ]
     },
     "execution_count": 4,
     "metadata": {},
     "output_type": "execute_result"
    }
   ],
   "source": [
    "datos1.shape"
   ]
  },
  {
   "cell_type": "markdown",
   "metadata": {},
   "source": [
    "# Extrayendo muestra"
   ]
  },
  {
   "cell_type": "code",
   "execution_count": 5,
   "metadata": {},
   "outputs": [],
   "source": [
    "datos1[\"key\"] = range(datos1.shape[0])"
   ]
  },
  {
   "cell_type": "code",
   "execution_count": 6,
   "metadata": {},
   "outputs": [],
   "source": [
    "from random import sample\n",
    "total = list(datos1[\"key\"])\n",
    "muestra = sample(total,round(datos1.shape[0]*0.1))"
   ]
  },
  {
   "cell_type": "code",
   "execution_count": 7,
   "metadata": {},
   "outputs": [],
   "source": [
    "datos_sample = datos1.loc[muestra]"
   ]
  },
  {
   "cell_type": "code",
   "execution_count": 8,
   "metadata": {},
   "outputs": [
    {
     "data": {
      "text/plain": [
       "(880730, 20)"
      ]
     },
     "execution_count": 8,
     "metadata": {},
     "output_type": "execute_result"
    }
   ],
   "source": [
    "datos_sample.shape"
   ]
  },
  {
   "cell_type": "code",
   "execution_count": 9,
   "metadata": {},
   "outputs": [],
   "source": [
    "datos_sample.to_csv(\"/home/michael/Kschool/TFM/Importe_Taxi/datos_TFM.csv\",index = False)"
   ]
  },
  {
   "cell_type": "markdown",
   "metadata": {},
   "source": [
    "# Limpiando datos"
   ]
  },
  {
   "cell_type": "code",
   "execution_count": 9,
   "metadata": {},
   "outputs": [],
   "source": [
    "datos_sample[\"lpep_pickup_datetime\"] = pd.to_datetime(datos_sample[\"lpep_pickup_datetime\"])\n",
    "datos_sample[\"lpep_dropoff_datetime\"] = pd.to_datetime(datos_sample[\"lpep_dropoff_datetime\"])"
   ]
  },
  {
   "cell_type": "code",
   "execution_count": 10,
   "metadata": {},
   "outputs": [],
   "source": [
    "datos_sample[\"dayofweek\"] = datos_sample[\"lpep_pickup_datetime\"].dt.dayofweek"
   ]
  },
  {
   "cell_type": "code",
   "execution_count": 11,
   "metadata": {},
   "outputs": [],
   "source": [
    "datos_sample[\"dayofmonth\"] = datos_sample[\"lpep_pickup_datetime\"].dt.day"
   ]
  },
  {
   "cell_type": "code",
   "execution_count": 12,
   "metadata": {},
   "outputs": [],
   "source": [
    "datos_sample[\"month\"] = datos_sample[\"lpep_pickup_datetime\"].dt.month"
   ]
  },
  {
   "cell_type": "code",
   "execution_count": 13,
   "metadata": {},
   "outputs": [],
   "source": [
    "datos_sample[\"hora_pickup\"] = datos_sample[\"lpep_pickup_datetime\"].dt.hour * 3600\n",
    "datos_sample[\"minute_pickup\"] = datos_sample[\"lpep_pickup_datetime\"].dt.minute * 60\n",
    "datos_sample[\"second_pickup\"] = datos_sample[\"lpep_pickup_datetime\"].dt.second\n",
    "\n",
    "datos_sample[\"hora_dropoff\"] = datos_sample[\"lpep_dropoff_datetime\"].dt.hour * 3600\n",
    "datos_sample[\"minute_dropoff\"] = datos_sample[\"lpep_dropoff_datetime\"].dt.minute * 60\n",
    "datos_sample[\"second_dropoff\"] = datos_sample[\"lpep_dropoff_datetime\"].dt.second"
   ]
  },
  {
   "cell_type": "code",
   "execution_count": 14,
   "metadata": {},
   "outputs": [],
   "source": [
    "datos_sample[\"time_pickup\"] = datos_sample[\"hora_pickup\"] + datos_sample[\"minute_pickup\"] + datos_sample[\"second_pickup\"]\n",
    "datos_sample[\"time_dropoff\"] = datos_sample[\"hora_dropoff\"] + datos_sample[\"minute_dropoff\"] + datos_sample[\"second_dropoff\"]"
   ]
  },
  {
   "cell_type": "code",
   "execution_count": 15,
   "metadata": {},
   "outputs": [],
   "source": [
    "datos_sample[\"time_duration\"] = datos_sample[\"time_dropoff\"] - datos_sample[\"time_pickup\"]"
   ]
  },
  {
   "cell_type": "code",
   "execution_count": 16,
   "metadata": {},
   "outputs": [],
   "source": [
    "datos_sample[\"hora_pickup\"] = datos_sample[\"hora_pickup\"] / 3600"
   ]
  },
  {
   "cell_type": "code",
   "execution_count": 17,
   "metadata": {},
   "outputs": [],
   "source": [
    "flag = []\n",
    "for value in datos_sample[\"store_and_fwd_flag\"]:\n",
    "    if value == \"N\":\n",
    "        flag.append(0)\n",
    "    else:\n",
    "        flag.append(1)\n",
    "\n",
    "datos_sample[\"store_and_fwd_flag\"] = flag"
   ]
  },
  {
   "cell_type": "code",
   "execution_count": 18,
   "metadata": {},
   "outputs": [
    {
     "data": {
      "text/plain": [
       "count    880730.000000\n",
       "mean        216.309509\n",
       "std        7537.267374\n",
       "min      -86382.000000\n",
       "25%         377.000000\n",
       "50%         650.000000\n",
       "75%        1117.000000\n",
       "max       86119.000000\n",
       "Name: time_duration, dtype: float64"
      ]
     },
     "execution_count": 18,
     "metadata": {},
     "output_type": "execute_result"
    }
   ],
   "source": [
    "datos_sample[\"time_duration\"].describe()"
   ]
  },
  {
   "cell_type": "code",
   "execution_count": 19,
   "metadata": {},
   "outputs": [],
   "source": [
    "datos_sample = datos_sample[datos_sample[\"time_duration\"] > 0]\n",
    "datos_sample = datos_sample[datos_sample[\"time_duration\"] <= 10800]"
   ]
  },
  {
   "cell_type": "code",
   "execution_count": 20,
   "metadata": {},
   "outputs": [
    {
     "data": {
      "text/plain": [
       "(868910, 32)"
      ]
     },
     "execution_count": 20,
     "metadata": {},
     "output_type": "execute_result"
    }
   ],
   "source": [
    "datos_sample.shape"
   ]
  },
  {
   "cell_type": "code",
   "execution_count": 21,
   "metadata": {},
   "outputs": [
    {
     "data": {
      "text/plain": [
       "(array([   942.,   2362.,   3157.,   3714.,   8873.,  87066., 329517.,\n",
       "        327983.,  99153.,   6143.]),\n",
       " array([0.        , 0.92761281, 1.85522562, 2.78283843, 3.71045125,\n",
       "        4.63806406, 5.56567687, 6.49328968, 7.42090249, 8.3485153 ,\n",
       "        9.27612811]),\n",
       " <a list of 10 Patch objects>)"
      ]
     },
     "execution_count": 21,
     "metadata": {},
     "output_type": "execute_result"
    },
    {
     "data": {
      "image/png": "[encoded data removed]",
      "text/plain": [
       "<Figure size 432x288 with 1 Axes>"
      ]
     },
     "metadata": {
      "needs_background": "light"
     },
     "output_type": "display_data"
    }
   ],
   "source": [
    "plt.hist(np.log(datos_sample[\"time_duration\"]))"
   ]
  },
  {
   "cell_type": "code",
   "execution_count": null,
   "metadata": {},
   "outputs": [],
   "source": [
    "#location_pickup = pd.read_csv(\"/home/michael/Kschool/TFM/Importe_Taxi/taxi_zone_lookup.csv\")\n",
    "#location_pickup.columns = [\"PULocationID\",\"borough_pickup\",\"zone_pickup\",\"service_zone_pickup\"]\n",
    "#location_dropoff = pd.read_csv(\"/home/michael/Kschool/TFM/Importe_Taxi/taxi_zone_lookup.csv\")\n",
    "#location_dropoff.columns = [\"DOLocationID\",\"borough_dropoff\",\"zone_dropoff\",\"service_zone_dropoff\"]"
   ]
  },
  {
   "cell_type": "code",
   "execution_count": null,
   "metadata": {},
   "outputs": [],
   "source": [
    "#datos_sample1 = datos_sample.merge(location_pickup)\n",
    "#datos_sample1 = datos_sample1.merge(location_dropoff)"
   ]
  },
  {
   "cell_type": "code",
   "execution_count": 23,
   "metadata": {},
   "outputs": [],
   "source": [
    "datos_sample2 = datos_sample[[\"key\",\"VendorID\",\"store_and_fwd_flag\",\"RatecodeID\",\"PULocationID\",\"DOLocationID\",\"passenger_count\",\"trip_distance\",\n",
    "                              \"payment_type\",\"trip_type\",\"hora_pickup\",\"time_duration\",\"dayofweek\",\"dayofmonth\",\"month\",\"total_amount\"]]\n",
    "#\"borough_pickup\",\"borough_dropoff\",\"zone_pickup\",\"zone_dropoff\""
   ]
  },
  {
   "cell_type": "code",
   "execution_count": 24,
   "metadata": {},
   "outputs": [
    {
     "data": {
      "text/plain": [
       "key                   0\n",
       "VendorID              0\n",
       "store_and_fwd_flag    0\n",
       "RatecodeID            0\n",
       "PULocationID          0\n",
       "DOLocationID          0\n",
       "passenger_count       0\n",
       "trip_distance         0\n",
       "payment_type          0\n",
       "trip_type             0\n",
       "hora_pickup           0\n",
       "time_duration         0\n",
       "dayofweek             0\n",
       "dayofmonth            0\n",
       "month                 0\n",
       "total_amount          0\n",
       "dtype: int64"
      ]
     },
     "execution_count": 24,
     "metadata": {},
     "output_type": "execute_result"
    }
   ],
   "source": [
    "datos_sample2.isnull().sum()"
   ]
  },
  {
   "cell_type": "code",
   "execution_count": 30,
   "metadata": {},
   "outputs": [
    {
     "data": {
      "text/html": [
       "<div>\n",
       "<style scoped>\n",
       "    .dataframe tbody tr th:only-of-type {\n",
       "        vertical-align: middle;\n",
       "    }\n",
       "\n",
       "    .dataframe tbody tr th {\n",
       "        vertical-align: top;\n",
       "    }\n",
       "\n",
       "    .dataframe thead th {\n",
       "        text-align: right;\n",
       "    }\n",
       "</style>\n",
       "<table border=\"1\" class=\"dataframe\">\n",
       "  <thead>\n",
       "    <tr style=\"text-align: right;\">\n",
       "      <th></th>\n",
       "      <th>key</th>\n",
       "      <th>VendorID</th>\n",
       "      <th>store_and_fwd_flag</th>\n",
       "      <th>RatecodeID</th>\n",
       "      <th>PULocationID</th>\n",
       "      <th>DOLocationID</th>\n",
       "      <th>passenger_count</th>\n",
       "      <th>trip_distance</th>\n",
       "      <th>payment_type</th>\n",
       "      <th>trip_type</th>\n",
       "      <th>hora_pickup</th>\n",
       "      <th>time_duration</th>\n",
       "      <th>dayofweek</th>\n",
       "      <th>dayofmonth</th>\n",
       "      <th>month</th>\n",
       "      <th>total_amount</th>\n",
       "    </tr>\n",
       "  </thead>\n",
       "  <tbody>\n",
       "    <tr>\n",
       "      <th>3508946</th>\n",
       "      <td>3508946</td>\n",
       "      <td>2</td>\n",
       "      <td>0</td>\n",
       "      <td>1</td>\n",
       "      <td>28</td>\n",
       "      <td>82</td>\n",
       "      <td>1</td>\n",
       "      <td>3.20</td>\n",
       "      <td>2</td>\n",
       "      <td>1.0</td>\n",
       "      <td>13.0</td>\n",
       "      <td>779</td>\n",
       "      <td>5</td>\n",
       "      <td>12</td>\n",
       "      <td>5</td>\n",
       "      <td>13.8</td>\n",
       "    </tr>\n",
       "    <tr>\n",
       "      <th>1824374</th>\n",
       "      <td>1824374</td>\n",
       "      <td>2</td>\n",
       "      <td>0</td>\n",
       "      <td>1</td>\n",
       "      <td>75</td>\n",
       "      <td>74</td>\n",
       "      <td>1</td>\n",
       "      <td>0.83</td>\n",
       "      <td>2</td>\n",
       "      <td>1.0</td>\n",
       "      <td>13.0</td>\n",
       "      <td>182</td>\n",
       "      <td>5</td>\n",
       "      <td>10</td>\n",
       "      <td>3</td>\n",
       "      <td>5.3</td>\n",
       "    </tr>\n",
       "    <tr>\n",
       "      <th>540119</th>\n",
       "      <td>540119</td>\n",
       "      <td>2</td>\n",
       "      <td>0</td>\n",
       "      <td>1</td>\n",
       "      <td>75</td>\n",
       "      <td>239</td>\n",
       "      <td>1</td>\n",
       "      <td>2.10</td>\n",
       "      <td>2</td>\n",
       "      <td>1.0</td>\n",
       "      <td>14.0</td>\n",
       "      <td>503</td>\n",
       "      <td>0</td>\n",
       "      <td>22</td>\n",
       "      <td>1</td>\n",
       "      <td>9.3</td>\n",
       "    </tr>\n",
       "    <tr>\n",
       "      <th>1138804</th>\n",
       "      <td>1138804</td>\n",
       "      <td>2</td>\n",
       "      <td>0</td>\n",
       "      <td>1</td>\n",
       "      <td>192</td>\n",
       "      <td>173</td>\n",
       "      <td>1</td>\n",
       "      <td>2.64</td>\n",
       "      <td>2</td>\n",
       "      <td>1.0</td>\n",
       "      <td>13.0</td>\n",
       "      <td>680</td>\n",
       "      <td>1</td>\n",
       "      <td>13</td>\n",
       "      <td>2</td>\n",
       "      <td>11.3</td>\n",
       "    </tr>\n",
       "    <tr>\n",
       "      <th>6067477</th>\n",
       "      <td>6067477</td>\n",
       "      <td>2</td>\n",
       "      <td>0</td>\n",
       "      <td>1</td>\n",
       "      <td>225</td>\n",
       "      <td>97</td>\n",
       "      <td>1</td>\n",
       "      <td>2.39</td>\n",
       "      <td>1</td>\n",
       "      <td>1.0</td>\n",
       "      <td>8.0</td>\n",
       "      <td>955</td>\n",
       "      <td>4</td>\n",
       "      <td>31</td>\n",
       "      <td>8</td>\n",
       "      <td>12.8</td>\n",
       "    </tr>\n",
       "  </tbody>\n",
       "</table>\n",
       "</div>"
      ],
      "text/plain": [
       "             key  VendorID  store_and_fwd_flag  RatecodeID  PULocationID  \\\n",
       "3508946  3508946         2                   0           1            28   \n",
       "1824374  1824374         2                   0           1            75   \n",
       "540119    540119         2                   0           1            75   \n",
       "1138804  1138804         2                   0           1           192   \n",
       "6067477  6067477         2                   0           1           225   \n",
       "\n",
       "         DOLocationID  passenger_count  trip_distance  payment_type  \\\n",
       "3508946            82                1           3.20             2   \n",
       "1824374            74                1           0.83             2   \n",
       "540119            239                1           2.10             2   \n",
       "1138804           173                1           2.64             2   \n",
       "6067477            97                1           2.39             1   \n",
       "\n",
       "         trip_type  hora_pickup  time_duration  dayofweek  dayofmonth  month  \\\n",
       "3508946        1.0         13.0            779          5          12      5   \n",
       "1824374        1.0         13.0            182          5          10      3   \n",
       "540119         1.0         14.0            503          0          22      1   \n",
       "1138804        1.0         13.0            680          1          13      2   \n",
       "6067477        1.0          8.0            955          4          31      8   \n",
       "\n",
       "         total_amount  \n",
       "3508946          13.8  \n",
       "1824374           5.3  \n",
       "540119            9.3  \n",
       "1138804          11.3  \n",
       "6067477          12.8  "
      ]
     },
     "execution_count": 30,
     "metadata": {},
     "output_type": "execute_result"
    }
   ],
   "source": [
    "datos_sample2.head()"
   ]
  },
  {
   "cell_type": "code",
   "execution_count": 89,
   "metadata": {},
   "outputs": [
    {
     "data": {
      "text/plain": [
       "count    868910.000000\n",
       "mean         15.700240\n",
       "std          16.751209\n",
       "min        -147.000000\n",
       "25%           8.300000\n",
       "50%          11.800000\n",
       "75%          18.800000\n",
       "max       10528.750000\n",
       "Name: total_amount, dtype: float64"
      ]
     },
     "execution_count": 89,
     "metadata": {},
     "output_type": "execute_result"
    }
   ],
   "source": [
    "datos_sample2[\"total_amount\"].describe()"
   ]
  },
  {
   "cell_type": "code",
   "execution_count": 74,
   "metadata": {},
   "outputs": [],
   "source": [
    "datos_sample3 = datos_sample2[datos_sample2[\"total_amount\"] > 1]\n",
    "datos_sample3 = datos_sample3[datos_sample3[\"total_amount\"] <= 100]"
   ]
  },
  {
   "cell_type": "markdown",
   "metadata": {},
   "source": [
    "# Escalando variables"
   ]
  },
  {
   "cell_type": "code",
   "execution_count": 26,
   "metadata": {},
   "outputs": [],
   "source": [
    "from sklearn.preprocessing import RobustScaler\n",
    "rbs = RobustScaler()"
   ]
  },
  {
   "cell_type": "code",
   "execution_count": 31,
   "metadata": {},
   "outputs": [
    {
     "data": {
      "text/plain": [
       "Index(['key', 'VendorID', 'store_and_fwd_flag', 'RatecodeID', 'PULocationID',\n",
       "       'DOLocationID', 'passenger_count', 'trip_distance', 'payment_type',\n",
       "       'trip_type', 'hora_pickup', 'time_duration', 'dayofweek', 'dayofmonth',\n",
       "       'month', 'total_amount'],\n",
       "      dtype='object')"
      ]
     },
     "execution_count": 31,
     "metadata": {},
     "output_type": "execute_result"
    }
   ],
   "source": [
    "datos_sample2.columns"
   ]
  },
  {
   "cell_type": "code",
   "execution_count": 104,
   "metadata": {},
   "outputs": [],
   "source": [
    "X_num = datos_sample3.drop([\"key\",\"trip_distance\",\"time_duration\",\"total_amount\"],axis = 1)\n",
    "X_scaled = rbs.fit_transform(X_num)\n",
    "X_scaled = pd.DataFrame(X_scaled)\n",
    "X_scaled.columns = ['VendorID', 'store_and_fwd_flag', 'RatecodeID', 'PULocationID', 'DOLocationID', 'passenger_count', 'payment_type',\n",
    "                    'trip_type', 'hora_pickup', 'dayofweek', 'dayofmonth', 'month']"
   ]
  },
  {
   "cell_type": "code",
   "execution_count": 106,
   "metadata": {},
   "outputs": [],
   "source": [
    "X = X_scaled\n",
    "y = datos_sample3[\"total_amount\"]"
   ]
  },
  {
   "cell_type": "code",
   "execution_count": 77,
   "metadata": {},
   "outputs": [
    {
     "data": {
      "text/plain": [
       "(array([403215., 286826.,  94222.,  38897.,  18977.,  11263.,   6154.,\n",
       "          2936.,   1299.,    595.]),\n",
       " array([  1.3 ,  11.17,  21.04,  30.91,  40.78,  50.65,  60.52,  70.39,\n",
       "         80.26,  90.13, 100.  ]),\n",
       " <a list of 10 Patch objects>)"
      ]
     },
     "execution_count": 77,
     "metadata": {},
     "output_type": "execute_result"
    },
    {
     "data": {
      "image/png": "[encoded data removed]",
      "text/plain": [
       "<Figure size 432x288 with 1 Axes>"
      ]
     },
     "metadata": {
      "needs_background": "light"
     },
     "output_type": "display_data"
    }
   ],
   "source": [
    "plt.hist(datos_sample3[\"total_amount\"])"
   ]
  },
  {
   "cell_type": "markdown",
   "metadata": {},
   "source": [
    "# Particion train-test"
   ]
  },
  {
   "cell_type": "code",
   "execution_count": 107,
   "metadata": {},
   "outputs": [],
   "source": [
    "from sklearn.model_selection import train_test_split\n",
    "X_train, X_test, y_train, y_test = train_test_split(X,y,test_size = 0.3,random_state = 42)"
   ]
  },
  {
   "cell_type": "markdown",
   "metadata": {},
   "source": [
    "# Modelo"
   ]
  },
  {
   "cell_type": "code",
   "execution_count": 50,
   "metadata": {},
   "outputs": [],
   "source": [
    "from sklearn.ensemble import RandomForestRegressor\n",
    "rf = RandomForestRegressor()"
   ]
  },
  {
   "cell_type": "code",
   "execution_count": 108,
   "metadata": {},
   "outputs": [],
   "source": [
    "mod_rf = rf.fit(X_train,y_train)"
   ]
  },
  {
   "cell_type": "code",
   "execution_count": 109,
   "metadata": {},
   "outputs": [],
   "source": [
    "pred_rf = mod_rf.predict(X_test)"
   ]
  },
  {
   "cell_type": "markdown",
   "metadata": {},
   "source": [
    "# Metricas de modelo"
   ]
  },
  {
   "cell_type": "code",
   "execution_count": 110,
   "metadata": {},
   "outputs": [
    {
     "data": {
      "text/plain": [
       "3.6459489622335233"
      ]
     },
     "execution_count": 110,
     "metadata": {},
     "output_type": "execute_result"
    }
   ],
   "source": [
    "from sklearn.metrics import mean_absolute_error\n",
    "\n",
    "mean_absolute_error(y_test,pred_rf)"
   ]
  },
  {
   "cell_type": "code",
   "execution_count": 111,
   "metadata": {},
   "outputs": [
    {
     "data": {
      "text/plain": [
       "25.11863387755916"
      ]
     },
     "execution_count": 111,
     "metadata": {},
     "output_type": "execute_result"
    }
   ],
   "source": [
    "def mean_absolute_percentage_error(y_true, y_pred):\n",
    "    y_true, y_pred = np.array(y_true), np.array(y_pred)\n",
    "    return np.mean(np.abs((y_true - y_pred) / y_true)) * 100\n",
    "\n",
    "mean_absolute_percentage_error(y_test,pred_rf)"
   ]
  },
  {
   "cell_type": "code",
   "execution_count": 112,
   "metadata": {},
   "outputs": [
    {
     "data": {
      "text/plain": [
       "0.8343890260466227"
      ]
     },
     "execution_count": 112,
     "metadata": {},
     "output_type": "execute_result"
    }
   ],
   "source": [
    "# Correlation\n",
    "def corr_test(y_true,y_pred):\n",
    "    return np.corrcoef(y_true,y_pred)[0][1]\n",
    "\n",
    "corr_test(y_test,pred_rf)"
   ]
  },
  {
   "cell_type": "markdown",
   "metadata": {},
   "source": [
    "# Importancia de variables"
   ]
  },
  {
   "cell_type": "code",
   "execution_count": 113,
   "metadata": {},
   "outputs": [],
   "source": [
    "feature_importances = pd.DataFrame(mod_rf.feature_importances_,\n",
    "                                   index = X_train.columns,\n",
    "                                   columns=['importance']).sort_values('importance',ascending=False)"
   ]
  },
  {
   "cell_type": "code",
   "execution_count": 114,
   "metadata": {},
   "outputs": [
    {
     "data": {
      "text/html": [
       "<div>\n",
       "<style scoped>\n",
       "    .dataframe tbody tr th:only-of-type {\n",
       "        vertical-align: middle;\n",
       "    }\n",
       "\n",
       "    .dataframe tbody tr th {\n",
       "        vertical-align: top;\n",
       "    }\n",
       "\n",
       "    .dataframe thead th {\n",
       "        text-align: right;\n",
       "    }\n",
       "</style>\n",
       "<table border=\"1\" class=\"dataframe\">\n",
       "  <thead>\n",
       "    <tr style=\"text-align: right;\">\n",
       "      <th></th>\n",
       "      <th>importance</th>\n",
       "    </tr>\n",
       "  </thead>\n",
       "  <tbody>\n",
       "    <tr>\n",
       "      <th>PULocationID</th>\n",
       "      <td>0.336820</td>\n",
       "    </tr>\n",
       "    <tr>\n",
       "      <th>DOLocationID</th>\n",
       "      <td>0.320388</td>\n",
       "    </tr>\n",
       "    <tr>\n",
       "      <th>payment_type</th>\n",
       "      <td>0.084996</td>\n",
       "    </tr>\n",
       "    <tr>\n",
       "      <th>hora_pickup</th>\n",
       "      <td>0.061242</td>\n",
       "    </tr>\n",
       "    <tr>\n",
       "      <th>RatecodeID</th>\n",
       "      <td>0.053019</td>\n",
       "    </tr>\n",
       "    <tr>\n",
       "      <th>dayofmonth</th>\n",
       "      <td>0.052448</td>\n",
       "    </tr>\n",
       "    <tr>\n",
       "      <th>month</th>\n",
       "      <td>0.039602</td>\n",
       "    </tr>\n",
       "    <tr>\n",
       "      <th>dayofweek</th>\n",
       "      <td>0.032337</td>\n",
       "    </tr>\n",
       "    <tr>\n",
       "      <th>passenger_count</th>\n",
       "      <td>0.011225</td>\n",
       "    </tr>\n",
       "    <tr>\n",
       "      <th>VendorID</th>\n",
       "      <td>0.006887</td>\n",
       "    </tr>\n",
       "    <tr>\n",
       "      <th>trip_type</th>\n",
       "      <td>0.000826</td>\n",
       "    </tr>\n",
       "    <tr>\n",
       "      <th>store_and_fwd_flag</th>\n",
       "      <td>0.000210</td>\n",
       "    </tr>\n",
       "  </tbody>\n",
       "</table>\n",
       "</div>"
      ],
      "text/plain": [
       "                    importance\n",
       "PULocationID          0.336820\n",
       "DOLocationID          0.320388\n",
       "payment_type          0.084996\n",
       "hora_pickup           0.061242\n",
       "RatecodeID            0.053019\n",
       "dayofmonth            0.052448\n",
       "month                 0.039602\n",
       "dayofweek             0.032337\n",
       "passenger_count       0.011225\n",
       "VendorID              0.006887\n",
       "trip_type             0.000826\n",
       "store_and_fwd_flag    0.000210"
      ]
     },
     "execution_count": 114,
     "metadata": {},
     "output_type": "execute_result"
    }
   ],
   "source": [
    "feature_importances"
   ]
  },
  {
   "cell_type": "code",
   "execution_count": null,
   "metadata": {},
   "outputs": [],
   "source": []
  }
 ],
 "metadata": {
  "kernelspec": {
   "display_name": "Python 3",
   "language": "python",
   "name": "python3"
  },
  "language_info": {
   "codemirror_mode": {
    "name": "ipython",
    "version": 3
   },
   "file_extension": ".py",
   "mimetype": "text/x-python",
   "name": "python",
   "nbconvert_exporter": "python",
   "pygments_lexer": "ipython3",
   "version": "3.6.7"
  }
 },
 "nbformat": 4,
 "nbformat_minor": 2
}
