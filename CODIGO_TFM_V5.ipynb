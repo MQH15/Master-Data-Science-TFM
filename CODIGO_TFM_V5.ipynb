{
 "cells": [
  {
   "cell_type": "markdown",
   "metadata": {},
   "source": [
    "# TFM"
   ]
  },
  {
   "cell_type": "code",
   "execution_count": 1,
   "metadata": {},
   "outputs": [],
   "source": [
    "import pandas as pd\n",
    "import numpy as np\n",
    "import matplotlib.pyplot as plt"
   ]
  },
  {
   "cell_type": "code",
   "execution_count": 2,
   "metadata": {},
   "outputs": [],
   "source": [
    "pd.set_option('display.max_rows', 2000)\n",
    "pd.set_option('display.max_columns', 500)"
   ]
  },
  {
   "cell_type": "code",
   "execution_count": 3,
   "metadata": {},
   "outputs": [],
   "source": [
    "datos1 = pd.read_csv(\"/home/michael/Kschool/TFM/Importe_Taxi/2018_Green_Taxi_Trip_Data.csv\")"
   ]
  },
  {
   "cell_type": "code",
   "execution_count": 4,
   "metadata": {},
   "outputs": [
    {
     "data": {
      "text/plain": [
       "(8807303, 19)"
      ]
     },
     "execution_count": 4,
     "metadata": {},
     "output_type": "execute_result"
    }
   ],
   "source": [
    "datos1.shape"
   ]
  },
  {
   "cell_type": "markdown",
   "metadata": {},
   "source": [
    "# Extrayendo muestra"
   ]
  },
  {
   "cell_type": "code",
   "execution_count": 5,
   "metadata": {},
   "outputs": [],
   "source": [
    "datos1[\"key\"] = range(datos1.shape[0])"
   ]
  },
  {
   "cell_type": "code",
   "execution_count": 6,
   "metadata": {},
   "outputs": [],
   "source": [
    "from random import sample\n",
    "total = list(datos1[\"key\"])\n",
    "muestra = sample(total,round(datos1.shape[0]*0.1))"
   ]
  },
  {
   "cell_type": "code",
   "execution_count": 7,
   "metadata": {},
   "outputs": [],
   "source": [
    "datos_sample = datos1.loc[muestra]"
   ]
  },
  {
   "cell_type": "code",
   "execution_count": 8,
   "metadata": {},
   "outputs": [
    {
     "data": {
      "text/plain": [
       "(880730, 20)"
      ]
     },
     "execution_count": 8,
     "metadata": {},
     "output_type": "execute_result"
    }
   ],
   "source": [
    "datos_sample.shape"
   ]
  },
  {
   "cell_type": "code",
   "execution_count": 9,
   "metadata": {},
   "outputs": [],
   "source": [
    "#datos_sample.to_csv(\"/home/michael/Kschool/TFM/Importe_Taxi/datos_TFM.csv\",index = False)"
   ]
  },
  {
   "cell_type": "markdown",
   "metadata": {},
   "source": [
    "# Limpiando datos"
   ]
  },
  {
   "cell_type": "code",
   "execution_count": 9,
   "metadata": {},
   "outputs": [],
   "source": [
    "datos_sample[\"lpep_pickup_datetime\"] = pd.to_datetime(datos_sample[\"lpep_pickup_datetime\"])\n",
    "datos_sample[\"lpep_dropoff_datetime\"] = pd.to_datetime(datos_sample[\"lpep_dropoff_datetime\"])"
   ]
  },
  {
   "cell_type": "code",
   "execution_count": 10,
   "metadata": {},
   "outputs": [],
   "source": [
    "datos_sample[\"dayofweek\"] = datos_sample[\"lpep_pickup_datetime\"].dt.dayofweek"
   ]
  },
  {
   "cell_type": "code",
   "execution_count": 11,
   "metadata": {},
   "outputs": [],
   "source": [
    "datos_sample[\"dayofmonth\"] = datos_sample[\"lpep_pickup_datetime\"].dt.day"
   ]
  },
  {
   "cell_type": "code",
   "execution_count": 12,
   "metadata": {},
   "outputs": [],
   "source": [
    "datos_sample[\"month\"] = datos_sample[\"lpep_pickup_datetime\"].dt.month"
   ]
  },
  {
   "cell_type": "code",
   "execution_count": 13,
   "metadata": {},
   "outputs": [],
   "source": [
    "datos_sample[\"hora_pickup\"] = datos_sample[\"lpep_pickup_datetime\"].dt.hour * 3600\n",
    "datos_sample[\"minute_pickup\"] = datos_sample[\"lpep_pickup_datetime\"].dt.minute * 60\n",
    "datos_sample[\"second_pickup\"] = datos_sample[\"lpep_pickup_datetime\"].dt.second\n",
    "\n",
    "datos_sample[\"hora_dropoff\"] = datos_sample[\"lpep_dropoff_datetime\"].dt.hour * 3600\n",
    "datos_sample[\"minute_dropoff\"] = datos_sample[\"lpep_dropoff_datetime\"].dt.minute * 60\n",
    "datos_sample[\"second_dropoff\"] = datos_sample[\"lpep_dropoff_datetime\"].dt.second"
   ]
  },
  {
   "cell_type": "code",
   "execution_count": 14,
   "metadata": {},
   "outputs": [],
   "source": [
    "datos_sample[\"time_pickup\"] = datos_sample[\"hora_pickup\"] + datos_sample[\"minute_pickup\"] + datos_sample[\"second_pickup\"]\n",
    "datos_sample[\"time_dropoff\"] = datos_sample[\"hora_dropoff\"] + datos_sample[\"minute_dropoff\"] + datos_sample[\"second_dropoff\"]"
   ]
  },
  {
   "cell_type": "code",
   "execution_count": 15,
   "metadata": {},
   "outputs": [],
   "source": [
    "datos_sample[\"time_duration\"] = datos_sample[\"time_dropoff\"] - datos_sample[\"time_pickup\"]"
   ]
  },
  {
   "cell_type": "code",
   "execution_count": 16,
   "metadata": {},
   "outputs": [],
   "source": [
    "datos_sample[\"hora_pickup\"] = datos_sample[\"hora_pickup\"] / 3600"
   ]
  },
  {
   "cell_type": "code",
   "execution_count": 17,
   "metadata": {},
   "outputs": [],
   "source": [
    "flag = []\n",
    "for value in datos_sample[\"store_and_fwd_flag\"]:\n",
    "    if value == \"N\":\n",
    "        flag.append(0)\n",
    "    else:\n",
    "        flag.append(1)\n",
    "\n",
    "datos_sample[\"store_and_fwd_flag\"] = flag"
   ]
  },
  {
   "cell_type": "markdown",
   "metadata": {},
   "source": [
    "# Limpiando variables"
   ]
  },
  {
   "cell_type": "code",
   "execution_count": 18,
   "metadata": {},
   "outputs": [
    {
     "data": {
      "text/plain": [
       "count    880730.000000\n",
       "mean        210.078874\n",
       "std        7599.966621\n",
       "min      -86377.000000\n",
       "25%         377.000000\n",
       "50%         651.000000\n",
       "75%        1118.000000\n",
       "max       86160.000000\n",
       "Name: time_duration, dtype: float64"
      ]
     },
     "execution_count": 18,
     "metadata": {},
     "output_type": "execute_result"
    }
   ],
   "source": [
    "datos_sample[\"time_duration\"].describe()"
   ]
  },
  {
   "cell_type": "code",
   "execution_count": 19,
   "metadata": {},
   "outputs": [
    {
     "data": {
      "text/plain": [
       "(array([6.54600e+03, 3.52000e+02, 1.73000e+02, 1.33000e+02, 3.98600e+03,\n",
       "        8.69429e+05, 2.40000e+01, 1.00000e+00, 2.00000e+00, 8.40000e+01]),\n",
       " array([-86377. , -69123.3, -51869.6, -34615.9, -17362.2,   -108.5,\n",
       "         17145.2,  34398.9,  51652.6,  68906.3,  86160. ]),\n",
       " <a list of 10 Patch objects>)"
      ]
     },
     "execution_count": 19,
     "metadata": {},
     "output_type": "execute_result"
    },
    {
     "data": {
      "image/png": "[encoded data removed]",
      "text/plain": [
       "<Figure size 432x288 with 1 Axes>"
      ]
     },
     "metadata": {
      "needs_background": "light"
     },
     "output_type": "display_data"
    }
   ],
   "source": [
    "plt.hist(datos_sample[\"time_duration\"])"
   ]
  },
  {
   "cell_type": "code",
   "execution_count": 20,
   "metadata": {},
   "outputs": [],
   "source": [
    "datos_sample = datos_sample[datos_sample[\"time_duration\"] > 0]"
   ]
  },
  {
   "cell_type": "code",
   "execution_count": 21,
   "metadata": {},
   "outputs": [
    {
     "data": {
      "text/plain": [
       "(array([2.42400e+03, 3.80300e+03, 4.83900e+03, 1.95180e+04, 2.11470e+05,\n",
       "        4.32446e+05, 1.81151e+05, 1.31440e+04, 8.50000e+01, 8.90000e+01]),\n",
       " array([ 0.69314718,  1.76022975,  2.82731233,  3.8943949 ,  4.96147748,\n",
       "         6.02856005,  7.09564262,  8.1627252 ,  9.22980777, 10.29689034,\n",
       "        11.36397292]),\n",
       " <a list of 10 Patch objects>)"
      ]
     },
     "execution_count": 21,
     "metadata": {},
     "output_type": "execute_result"
    },
    {
     "data": {
      "image/png": "[encoded data removed]",
      "text/plain": [
       "<Figure size 432x288 with 1 Axes>"
      ]
     },
     "metadata": {
      "needs_background": "light"
     },
     "output_type": "display_data"
    }
   ],
   "source": [
    "plt.hist(np.log1p(datos_sample[\"time_duration\"]))"
   ]
  },
  {
   "cell_type": "code",
   "execution_count": 22,
   "metadata": {},
   "outputs": [],
   "source": [
    "datos_sample = datos_sample[datos_sample[\"time_duration\"] > 180]"
   ]
  },
  {
   "cell_type": "code",
   "execution_count": 23,
   "metadata": {},
   "outputs": [
    {
     "data": {
      "text/plain": [
       "(array([8.19366e+05, 1.22000e+02, 1.50000e+01, 8.00000e+00, 1.00000e+00,\n",
       "        0.00000e+00, 1.00000e+00, 1.00000e+00, 2.00000e+00, 8.20000e+01]),\n",
       " array([  181. ,  8778.9, 17376.8, 25974.7, 34572.6, 43170.5, 51768.4,\n",
       "        60366.3, 68964.2, 77562.1, 86160. ]),\n",
       " <a list of 10 Patch objects>)"
      ]
     },
     "execution_count": 23,
     "metadata": {},
     "output_type": "execute_result"
    },
    {
     "data": {
      "image/png": "[encoded data removed]",
      "text/plain": [
       "<Figure size 432x288 with 1 Axes>"
      ]
     },
     "metadata": {
      "needs_background": "light"
     },
     "output_type": "display_data"
    }
   ],
   "source": [
    "plt.hist((datos_sample[\"time_duration\"]))"
   ]
  },
  {
   "cell_type": "code",
   "execution_count": 24,
   "metadata": {},
   "outputs": [],
   "source": [
    "datos_sample = datos_sample[datos_sample[\"time_duration\"] <= 7200]"
   ]
  },
  {
   "cell_type": "code",
   "execution_count": 25,
   "metadata": {},
   "outputs": [
    {
     "data": {
      "text/plain": [
       "count    819138.000000\n",
       "mean        934.955887\n",
       "std         765.805389\n",
       "min         181.000000\n",
       "25%         428.000000\n",
       "50%         698.000000\n",
       "75%        1167.000000\n",
       "max        7197.000000\n",
       "Name: time_duration, dtype: float64"
      ]
     },
     "execution_count": 25,
     "metadata": {},
     "output_type": "execute_result"
    }
   ],
   "source": [
    "datos_sample[\"time_duration\"].describe()"
   ]
  },
  {
   "cell_type": "code",
   "execution_count": 26,
   "metadata": {},
   "outputs": [],
   "source": [
    "VendorID = datos_sample.groupby(\"VendorID\")[\"key\"].count().reset_index()\n",
    "VendorID.columns = [\"VendorID\",\"Cantidad\"]\n",
    "VendorID[\"VendorID\"] = VendorID[\"VendorID\"].replace(1,\"Tipo_1\")\n",
    "VendorID[\"VendorID\"] = VendorID[\"VendorID\"].replace(2,\"Tipo_2\")"
   ]
  },
  {
   "cell_type": "code",
   "execution_count": 27,
   "metadata": {},
   "outputs": [
    {
     "data": {
      "text/html": [
       "<div>\n",
       "<style scoped>\n",
       "    .dataframe tbody tr th:only-of-type {\n",
       "        vertical-align: middle;\n",
       "    }\n",
       "\n",
       "    .dataframe tbody tr th {\n",
       "        vertical-align: top;\n",
       "    }\n",
       "\n",
       "    .dataframe thead th {\n",
       "        text-align: right;\n",
       "    }\n",
       "</style>\n",
       "<table border=\"1\" class=\"dataframe\">\n",
       "  <thead>\n",
       "    <tr style=\"text-align: right;\">\n",
       "      <th></th>\n",
       "      <th>VendorID</th>\n",
       "      <th>Cantidad</th>\n",
       "    </tr>\n",
       "  </thead>\n",
       "  <tbody>\n",
       "    <tr>\n",
       "      <th>0</th>\n",
       "      <td>Tipo_1</td>\n",
       "      <td>132606</td>\n",
       "    </tr>\n",
       "    <tr>\n",
       "      <th>1</th>\n",
       "      <td>Tipo_2</td>\n",
       "      <td>686532</td>\n",
       "    </tr>\n",
       "  </tbody>\n",
       "</table>\n",
       "</div>"
      ],
      "text/plain": [
       "  VendorID  Cantidad\n",
       "0   Tipo_1    132606\n",
       "1   Tipo_2    686532"
      ]
     },
     "execution_count": 27,
     "metadata": {},
     "output_type": "execute_result"
    }
   ],
   "source": [
    "VendorID"
   ]
  },
  {
   "cell_type": "code",
   "execution_count": 28,
   "metadata": {},
   "outputs": [
    {
     "data": {
      "text/plain": [
       "<BarContainer object of 2 artists>"
      ]
     },
     "execution_count": 28,
     "metadata": {},
     "output_type": "execute_result"
    },
    {
     "data": {
      "image/png": "[encoded data removed]",
      "text/plain": [
       "<Figure size 432x288 with 1 Axes>"
      ]
     },
     "metadata": {
      "needs_background": "light"
     },
     "output_type": "display_data"
    }
   ],
   "source": [
    "plt.bar(VendorID[\"VendorID\"],VendorID[\"Cantidad\"])"
   ]
  },
  {
   "cell_type": "code",
   "execution_count": 29,
   "metadata": {},
   "outputs": [],
   "source": [
    "StoreFwdFlag = datos_sample.groupby(\"store_and_fwd_flag\")[\"key\"].count().reset_index()\n",
    "StoreFwdFlag.columns = [\"store_and_fwd_flag\",\"Cantidad\"]\n",
    "StoreFwdFlag[\"store_and_fwd_flag\"] = StoreFwdFlag[\"store_and_fwd_flag\"].replace(0,\"N\")\n",
    "StoreFwdFlag[\"store_and_fwd_flag\"] = StoreFwdFlag[\"store_and_fwd_flag\"].replace(1,\"Y\")"
   ]
  },
  {
   "cell_type": "code",
   "execution_count": 30,
   "metadata": {},
   "outputs": [
    {
     "data": {
      "text/html": [
       "<div>\n",
       "<style scoped>\n",
       "    .dataframe tbody tr th:only-of-type {\n",
       "        vertical-align: middle;\n",
       "    }\n",
       "\n",
       "    .dataframe tbody tr th {\n",
       "        vertical-align: top;\n",
       "    }\n",
       "\n",
       "    .dataframe thead th {\n",
       "        text-align: right;\n",
       "    }\n",
       "</style>\n",
       "<table border=\"1\" class=\"dataframe\">\n",
       "  <thead>\n",
       "    <tr style=\"text-align: right;\">\n",
       "      <th></th>\n",
       "      <th>store_and_fwd_flag</th>\n",
       "      <th>Cantidad</th>\n",
       "    </tr>\n",
       "  </thead>\n",
       "  <tbody>\n",
       "    <tr>\n",
       "      <th>0</th>\n",
       "      <td>N</td>\n",
       "      <td>817674</td>\n",
       "    </tr>\n",
       "    <tr>\n",
       "      <th>1</th>\n",
       "      <td>Y</td>\n",
       "      <td>1464</td>\n",
       "    </tr>\n",
       "  </tbody>\n",
       "</table>\n",
       "</div>"
      ],
      "text/plain": [
       "  store_and_fwd_flag  Cantidad\n",
       "0                  N    817674\n",
       "1                  Y      1464"
      ]
     },
     "execution_count": 30,
     "metadata": {},
     "output_type": "execute_result"
    }
   ],
   "source": [
    "StoreFwdFlag"
   ]
  },
  {
   "cell_type": "code",
   "execution_count": 31,
   "metadata": {},
   "outputs": [
    {
     "data": {
      "text/plain": [
       "<BarContainer object of 2 artists>"
      ]
     },
     "execution_count": 31,
     "metadata": {},
     "output_type": "execute_result"
    },
    {
     "data": {
      "image/png": "[encoded data removed]",
      "text/plain": [
       "<Figure size 432x288 with 1 Axes>"
      ]
     },
     "metadata": {
      "needs_background": "light"
     },
     "output_type": "display_data"
    }
   ],
   "source": [
    "plt.bar(StoreFwdFlag[\"store_and_fwd_flag\"],StoreFwdFlag[\"Cantidad\"])"
   ]
  },
  {
   "cell_type": "code",
   "execution_count": 32,
   "metadata": {},
   "outputs": [],
   "source": [
    "datos_sample = datos_sample[datos_sample[\"RatecodeID\"] != 99]"
   ]
  },
  {
   "cell_type": "code",
   "execution_count": 33,
   "metadata": {},
   "outputs": [],
   "source": [
    "RateCodeID = datos_sample.groupby(\"RatecodeID\")[\"key\"].count().reset_index()\n",
    "RateCodeID.columns = [\"RatecodeID\",\"Cantidad\"]\n",
    "RateCodeID[\"RatecodeID\"] = RateCodeID[\"RatecodeID\"].replace(1,\"Tasa Estandar\")\n",
    "RateCodeID[\"RatecodeID\"] = RateCodeID[\"RatecodeID\"].replace(2,\"JFK\")\n",
    "RateCodeID[\"RatecodeID\"] = RateCodeID[\"RatecodeID\"].replace(3,\"Newark\")\n",
    "RateCodeID[\"RatecodeID\"] = RateCodeID[\"RatecodeID\"].replace(4,\"Nassau o Westchester\")\n",
    "RateCodeID[\"RatecodeID\"] = RateCodeID[\"RatecodeID\"].replace(5,\"Tarifa Negociada\")\n",
    "RateCodeID[\"RatecodeID\"] = RateCodeID[\"RatecodeID\"].replace(6,\"Viaje Grupo\")"
   ]
  },
  {
   "cell_type": "code",
   "execution_count": 34,
   "metadata": {},
   "outputs": [
    {
     "data": {
      "text/html": [
       "<div>\n",
       "<style scoped>\n",
       "    .dataframe tbody tr th:only-of-type {\n",
       "        vertical-align: middle;\n",
       "    }\n",
       "\n",
       "    .dataframe tbody tr th {\n",
       "        vertical-align: top;\n",
       "    }\n",
       "\n",
       "    .dataframe thead th {\n",
       "        text-align: right;\n",
       "    }\n",
       "</style>\n",
       "<table border=\"1\" class=\"dataframe\">\n",
       "  <thead>\n",
       "    <tr style=\"text-align: right;\">\n",
       "      <th></th>\n",
       "      <th>RatecodeID</th>\n",
       "      <th>Cantidad</th>\n",
       "    </tr>\n",
       "  </thead>\n",
       "  <tbody>\n",
       "    <tr>\n",
       "      <th>0</th>\n",
       "      <td>Tasa Estandar</td>\n",
       "      <td>797769</td>\n",
       "    </tr>\n",
       "    <tr>\n",
       "      <th>1</th>\n",
       "      <td>JFK</td>\n",
       "      <td>1120</td>\n",
       "    </tr>\n",
       "    <tr>\n",
       "      <th>2</th>\n",
       "      <td>Newark</td>\n",
       "      <td>245</td>\n",
       "    </tr>\n",
       "    <tr>\n",
       "      <th>3</th>\n",
       "      <td>Nassau o Westchester</td>\n",
       "      <td>577</td>\n",
       "    </tr>\n",
       "    <tr>\n",
       "      <th>4</th>\n",
       "      <td>Tarifa Negociada</td>\n",
       "      <td>19427</td>\n",
       "    </tr>\n",
       "  </tbody>\n",
       "</table>\n",
       "</div>"
      ],
      "text/plain": [
       "             RatecodeID  Cantidad\n",
       "0         Tasa Estandar    797769\n",
       "1                   JFK      1120\n",
       "2                Newark       245\n",
       "3  Nassau o Westchester       577\n",
       "4      Tarifa Negociada     19427"
      ]
     },
     "execution_count": 34,
     "metadata": {},
     "output_type": "execute_result"
    }
   ],
   "source": [
    "RateCodeID"
   ]
  },
  {
   "cell_type": "code",
   "execution_count": 35,
   "metadata": {},
   "outputs": [
    {
     "data": {
      "text/plain": [
       "<BarContainer object of 5 artists>"
      ]
     },
     "execution_count": 35,
     "metadata": {},
     "output_type": "execute_result"
    },
    {
     "data": {
      "image/png": "[encoded data removed]",
      "text/plain": [
       "<Figure size 432x288 with 1 Axes>"
      ]
     },
     "metadata": {
      "needs_background": "light"
     },
     "output_type": "display_data"
    }
   ],
   "source": [
    "plt.bar(RateCodeID[\"RatecodeID\"],RateCodeID[\"Cantidad\"])"
   ]
  },
  {
   "cell_type": "code",
   "execution_count": 36,
   "metadata": {},
   "outputs": [],
   "source": [
    "Pasenger = datos_sample.groupby(\"passenger_count\")[\"key\"].count().reset_index()\n",
    "Pasenger.columns = [\"passenger_count\",\"Cantidad\"]"
   ]
  },
  {
   "cell_type": "code",
   "execution_count": 37,
   "metadata": {},
   "outputs": [
    {
     "data": {
      "text/html": [
       "<div>\n",
       "<style scoped>\n",
       "    .dataframe tbody tr th:only-of-type {\n",
       "        vertical-align: middle;\n",
       "    }\n",
       "\n",
       "    .dataframe tbody tr th {\n",
       "        vertical-align: top;\n",
       "    }\n",
       "\n",
       "    .dataframe thead th {\n",
       "        text-align: right;\n",
       "    }\n",
       "</style>\n",
       "<table border=\"1\" class=\"dataframe\">\n",
       "  <thead>\n",
       "    <tr style=\"text-align: right;\">\n",
       "      <th></th>\n",
       "      <th>passenger_count</th>\n",
       "      <th>Cantidad</th>\n",
       "    </tr>\n",
       "  </thead>\n",
       "  <tbody>\n",
       "    <tr>\n",
       "      <th>0</th>\n",
       "      <td>0</td>\n",
       "      <td>1082</td>\n",
       "    </tr>\n",
       "    <tr>\n",
       "      <th>1</th>\n",
       "      <td>1</td>\n",
       "      <td>693807</td>\n",
       "    </tr>\n",
       "    <tr>\n",
       "      <th>2</th>\n",
       "      <td>2</td>\n",
       "      <td>63344</td>\n",
       "    </tr>\n",
       "    <tr>\n",
       "      <th>3</th>\n",
       "      <td>3</td>\n",
       "      <td>13334</td>\n",
       "    </tr>\n",
       "    <tr>\n",
       "      <th>4</th>\n",
       "      <td>4</td>\n",
       "      <td>4727</td>\n",
       "    </tr>\n",
       "    <tr>\n",
       "      <th>5</th>\n",
       "      <td>5</td>\n",
       "      <td>28112</td>\n",
       "    </tr>\n",
       "    <tr>\n",
       "      <th>6</th>\n",
       "      <td>6</td>\n",
       "      <td>14720</td>\n",
       "    </tr>\n",
       "    <tr>\n",
       "      <th>7</th>\n",
       "      <td>7</td>\n",
       "      <td>6</td>\n",
       "    </tr>\n",
       "    <tr>\n",
       "      <th>8</th>\n",
       "      <td>8</td>\n",
       "      <td>4</td>\n",
       "    </tr>\n",
       "    <tr>\n",
       "      <th>9</th>\n",
       "      <td>9</td>\n",
       "      <td>2</td>\n",
       "    </tr>\n",
       "  </tbody>\n",
       "</table>\n",
       "</div>"
      ],
      "text/plain": [
       "   passenger_count  Cantidad\n",
       "0                0      1082\n",
       "1                1    693807\n",
       "2                2     63344\n",
       "3                3     13334\n",
       "4                4      4727\n",
       "5                5     28112\n",
       "6                6     14720\n",
       "7                7         6\n",
       "8                8         4\n",
       "9                9         2"
      ]
     },
     "execution_count": 37,
     "metadata": {},
     "output_type": "execute_result"
    }
   ],
   "source": [
    "Pasenger"
   ]
  },
  {
   "cell_type": "code",
   "execution_count": 38,
   "metadata": {},
   "outputs": [
    {
     "data": {
      "text/plain": [
       "<BarContainer object of 10 artists>"
      ]
     },
     "execution_count": 38,
     "metadata": {},
     "output_type": "execute_result"
    },
    {
     "data": {
      "image/png": "[encoded data removed]",
      "text/plain": [
       "<Figure size 432x288 with 1 Axes>"
      ]
     },
     "metadata": {
      "needs_background": "light"
     },
     "output_type": "display_data"
    }
   ],
   "source": [
    "plt.bar(Pasenger[\"passenger_count\"],Pasenger[\"Cantidad\"])"
   ]
  },
  {
   "cell_type": "code",
   "execution_count": 39,
   "metadata": {},
   "outputs": [
    {
     "data": {
      "text/plain": [
       "count    819138.000000\n",
       "mean          3.326554\n",
       "std           3.622116\n",
       "min           0.000000\n",
       "25%           1.170000\n",
       "50%           2.030000\n",
       "75%           3.960000\n",
       "max         124.400000\n",
       "Name: trip_distance, dtype: float64"
      ]
     },
     "execution_count": 39,
     "metadata": {},
     "output_type": "execute_result"
    }
   ],
   "source": [
    "datos_sample[\"trip_distance\"].describe()"
   ]
  },
  {
   "cell_type": "code",
   "execution_count": 40,
   "metadata": {},
   "outputs": [
    {
     "data": {
      "text/plain": [
       "(array([3.90500e+04, 2.90914e+05, 2.30664e+05, 1.37921e+05, 7.61980e+04,\n",
       "        3.29080e+04, 1.08880e+04, 5.80000e+02, 1.40000e+01, 1.00000e+00]),\n",
       " array([0.        , 0.48315086, 0.96630173, 1.44945259, 1.93260345,\n",
       "        2.41575431, 2.89890518, 3.38205604, 3.8652069 , 4.34835777,\n",
       "        4.83150863]),\n",
       " <a list of 10 Patch objects>)"
      ]
     },
     "execution_count": 40,
     "metadata": {},
     "output_type": "execute_result"
    },
    {
     "data": {
      "image/png": "[encoded data removed]",
      "text/plain": [
       "<Figure size 432x288 with 1 Axes>"
      ]
     },
     "metadata": {
      "needs_background": "light"
     },
     "output_type": "display_data"
    }
   ],
   "source": [
    "plt.hist(np.log1p(datos_sample[\"trip_distance\"]))"
   ]
  },
  {
   "cell_type": "code",
   "execution_count": 41,
   "metadata": {},
   "outputs": [],
   "source": [
    "PaymentType = datos_sample.groupby(\"payment_type\")[\"key\"].count().reset_index()\n",
    "PaymentType.columns = [\"payment_type\",\"Cantidad\"]\n",
    "PaymentType[\"payment_type\"] = PaymentType[\"payment_type\"].replace(1,\"Tarjeta Credito\")\n",
    "PaymentType[\"payment_type\"] = PaymentType[\"payment_type\"].replace(2,\"Efectivo\")\n",
    "PaymentType[\"payment_type\"] = PaymentType[\"payment_type\"].replace(3,\"Sin Cargo\")\n",
    "PaymentType[\"payment_type\"] = PaymentType[\"payment_type\"].replace(4,\"Disputa\")\n",
    "PaymentType[\"payment_type\"] = PaymentType[\"payment_type\"].replace(5,\"Desconocido\")\n",
    "PaymentType[\"payment_type\"] = PaymentType[\"payment_type\"].replace(6,\"Viaje Vacio\")"
   ]
  },
  {
   "cell_type": "code",
   "execution_count": 42,
   "metadata": {},
   "outputs": [
    {
     "data": {
      "text/html": [
       "<div>\n",
       "<style scoped>\n",
       "    .dataframe tbody tr th:only-of-type {\n",
       "        vertical-align: middle;\n",
       "    }\n",
       "\n",
       "    .dataframe tbody tr th {\n",
       "        vertical-align: top;\n",
       "    }\n",
       "\n",
       "    .dataframe thead th {\n",
       "        text-align: right;\n",
       "    }\n",
       "</style>\n",
       "<table border=\"1\" class=\"dataframe\">\n",
       "  <thead>\n",
       "    <tr style=\"text-align: right;\">\n",
       "      <th></th>\n",
       "      <th>payment_type</th>\n",
       "      <th>Cantidad</th>\n",
       "    </tr>\n",
       "  </thead>\n",
       "  <tbody>\n",
       "    <tr>\n",
       "      <th>0</th>\n",
       "      <td>Tarjeta Credito</td>\n",
       "      <td>474365</td>\n",
       "    </tr>\n",
       "    <tr>\n",
       "      <th>1</th>\n",
       "      <td>Efectivo</td>\n",
       "      <td>341557</td>\n",
       "    </tr>\n",
       "    <tr>\n",
       "      <th>2</th>\n",
       "      <td>Sin Cargo</td>\n",
       "      <td>2045</td>\n",
       "    </tr>\n",
       "    <tr>\n",
       "      <th>3</th>\n",
       "      <td>Disputa</td>\n",
       "      <td>1152</td>\n",
       "    </tr>\n",
       "    <tr>\n",
       "      <th>4</th>\n",
       "      <td>Desconocido</td>\n",
       "      <td>19</td>\n",
       "    </tr>\n",
       "  </tbody>\n",
       "</table>\n",
       "</div>"
      ],
      "text/plain": [
       "      payment_type  Cantidad\n",
       "0  Tarjeta Credito    474365\n",
       "1         Efectivo    341557\n",
       "2        Sin Cargo      2045\n",
       "3          Disputa      1152\n",
       "4      Desconocido        19"
      ]
     },
     "execution_count": 42,
     "metadata": {},
     "output_type": "execute_result"
    }
   ],
   "source": [
    "PaymentType"
   ]
  },
  {
   "cell_type": "code",
   "execution_count": 43,
   "metadata": {},
   "outputs": [
    {
     "data": {
      "text/plain": [
       "<BarContainer object of 5 artists>"
      ]
     },
     "execution_count": 43,
     "metadata": {},
     "output_type": "execute_result"
    },
    {
     "data": {
      "image/png": "[encoded data removed]",
      "text/plain": [
       "<Figure size 432x288 with 1 Axes>"
      ]
     },
     "metadata": {
      "needs_background": "light"
     },
     "output_type": "display_data"
    }
   ],
   "source": [
    "plt.bar(PaymentType[\"payment_type\"],PaymentType[\"Cantidad\"])"
   ]
  },
  {
   "cell_type": "code",
   "execution_count": 44,
   "metadata": {},
   "outputs": [],
   "source": [
    "DayofWeek = datos_sample.groupby(\"dayofweek\")[\"key\"].count().reset_index()\n",
    "DayofWeek.columns = [\"dayofweek\",\"Cantidad\"]\n",
    "DayofWeek[\"dayofweek\"] = DayofWeek[\"dayofweek\"].replace(0,\"Lunes\")\n",
    "DayofWeek[\"dayofweek\"] = DayofWeek[\"dayofweek\"].replace(1,\"Martes\")\n",
    "DayofWeek[\"dayofweek\"] = DayofWeek[\"dayofweek\"].replace(2,\"Miercoles\")\n",
    "DayofWeek[\"dayofweek\"] = DayofWeek[\"dayofweek\"].replace(3,\"Jueves\")\n",
    "DayofWeek[\"dayofweek\"] = DayofWeek[\"dayofweek\"].replace(4,\"Viernes\")\n",
    "DayofWeek[\"dayofweek\"] = DayofWeek[\"dayofweek\"].replace(5,\"Sabado\")\n",
    "DayofWeek[\"dayofweek\"] = DayofWeek[\"dayofweek\"].replace(6,\"Domingo\")"
   ]
  },
  {
   "cell_type": "code",
   "execution_count": 45,
   "metadata": {},
   "outputs": [
    {
     "data": {
      "text/html": [
       "<div>\n",
       "<style scoped>\n",
       "    .dataframe tbody tr th:only-of-type {\n",
       "        vertical-align: middle;\n",
       "    }\n",
       "\n",
       "    .dataframe tbody tr th {\n",
       "        vertical-align: top;\n",
       "    }\n",
       "\n",
       "    .dataframe thead th {\n",
       "        text-align: right;\n",
       "    }\n",
       "</style>\n",
       "<table border=\"1\" class=\"dataframe\">\n",
       "  <thead>\n",
       "    <tr style=\"text-align: right;\">\n",
       "      <th></th>\n",
       "      <th>dayofweek</th>\n",
       "      <th>Cantidad</th>\n",
       "    </tr>\n",
       "  </thead>\n",
       "  <tbody>\n",
       "    <tr>\n",
       "      <th>0</th>\n",
       "      <td>Lunes</td>\n",
       "      <td>107779</td>\n",
       "    </tr>\n",
       "    <tr>\n",
       "      <th>1</th>\n",
       "      <td>Martes</td>\n",
       "      <td>111942</td>\n",
       "    </tr>\n",
       "    <tr>\n",
       "      <th>2</th>\n",
       "      <td>Miercoles</td>\n",
       "      <td>113926</td>\n",
       "    </tr>\n",
       "    <tr>\n",
       "      <th>3</th>\n",
       "      <td>Jueves</td>\n",
       "      <td>119358</td>\n",
       "    </tr>\n",
       "    <tr>\n",
       "      <th>4</th>\n",
       "      <td>Viernes</td>\n",
       "      <td>129704</td>\n",
       "    </tr>\n",
       "    <tr>\n",
       "      <th>5</th>\n",
       "      <td>Sabado</td>\n",
       "      <td>129824</td>\n",
       "    </tr>\n",
       "    <tr>\n",
       "      <th>6</th>\n",
       "      <td>Domingo</td>\n",
       "      <td>106605</td>\n",
       "    </tr>\n",
       "  </tbody>\n",
       "</table>\n",
       "</div>"
      ],
      "text/plain": [
       "   dayofweek  Cantidad\n",
       "0      Lunes    107779\n",
       "1     Martes    111942\n",
       "2  Miercoles    113926\n",
       "3     Jueves    119358\n",
       "4    Viernes    129704\n",
       "5     Sabado    129824\n",
       "6    Domingo    106605"
      ]
     },
     "execution_count": 45,
     "metadata": {},
     "output_type": "execute_result"
    }
   ],
   "source": [
    "DayofWeek"
   ]
  },
  {
   "cell_type": "code",
   "execution_count": 46,
   "metadata": {},
   "outputs": [
    {
     "data": {
      "text/plain": [
       "<BarContainer object of 7 artists>"
      ]
     },
     "execution_count": 46,
     "metadata": {},
     "output_type": "execute_result"
    },
    {
     "data": {
      "image/png": "[encoded data removed]",
      "text/plain": [
       "<Figure size 432x288 with 1 Axes>"
      ]
     },
     "metadata": {
      "needs_background": "light"
     },
     "output_type": "display_data"
    }
   ],
   "source": [
    "plt.bar(DayofWeek[\"dayofweek\"],DayofWeek[\"Cantidad\"])"
   ]
  },
  {
   "cell_type": "code",
   "execution_count": 47,
   "metadata": {},
   "outputs": [],
   "source": [
    "DayofMonth = datos_sample.groupby(\"dayofmonth\")[\"key\"].count().reset_index()\n",
    "DayofMonth.columns = [\"dayofmonth\",\"Cantidad\"]"
   ]
  },
  {
   "cell_type": "code",
   "execution_count": 48,
   "metadata": {},
   "outputs": [
    {
     "data": {
      "text/plain": [
       "<BarContainer object of 31 artists>"
      ]
     },
     "execution_count": 48,
     "metadata": {},
     "output_type": "execute_result"
    },
    {
     "data": {
      "image/png": "[encoded data removed]",
      "text/plain": [
       "<Figure size 432x288 with 1 Axes>"
      ]
     },
     "metadata": {
      "needs_background": "light"
     },
     "output_type": "display_data"
    }
   ],
   "source": [
    "plt.bar(DayofMonth[\"dayofmonth\"],DayofMonth[\"Cantidad\"])"
   ]
  },
  {
   "cell_type": "code",
   "execution_count": 49,
   "metadata": {},
   "outputs": [],
   "source": [
    "Month = datos_sample.groupby(\"month\")[\"key\"].count().reset_index()\n",
    "Month.columns = [\"month\",\"Cantidad\"]"
   ]
  },
  {
   "cell_type": "code",
   "execution_count": 50,
   "metadata": {},
   "outputs": [
    {
     "data": {
      "text/plain": [
       "<BarContainer object of 12 artists>"
      ]
     },
     "execution_count": 50,
     "metadata": {},
     "output_type": "execute_result"
    },
    {
     "data": {
      "image/png": "[encoded data removed]",
      "text/plain": [
       "<Figure size 432x288 with 1 Axes>"
      ]
     },
     "metadata": {
      "needs_background": "light"
     },
     "output_type": "display_data"
    }
   ],
   "source": [
    "plt.bar(Month[\"month\"],Month[\"Cantidad\"])"
   ]
  },
  {
   "cell_type": "code",
   "execution_count": 51,
   "metadata": {},
   "outputs": [],
   "source": [
    "Hora = datos_sample.groupby(\"hora_pickup\")[\"key\"].count().reset_index()\n",
    "Hora.columns = [\"hora_pickup\",\"Cantidad\"]"
   ]
  },
  {
   "cell_type": "code",
   "execution_count": 52,
   "metadata": {},
   "outputs": [
    {
     "data": {
      "text/plain": [
       "<BarContainer object of 24 artists>"
      ]
     },
     "execution_count": 52,
     "metadata": {},
     "output_type": "execute_result"
    },
    {
     "data": {
      "image/png": "[encoded data removed]",
      "text/plain": [
       "<Figure size 432x288 with 1 Axes>"
      ]
     },
     "metadata": {
      "needs_background": "light"
     },
     "output_type": "display_data"
    }
   ],
   "source": [
    "plt.bar(Hora[\"hora_pickup\"],Hora[\"Cantidad\"])"
   ]
  },
  {
   "cell_type": "code",
   "execution_count": 53,
   "metadata": {},
   "outputs": [
    {
     "data": {
      "text/plain": [
       "count    819138.000000\n",
       "mean         16.199835\n",
       "std          12.168248\n",
       "min        -110.000000\n",
       "25%           8.760000\n",
       "50%          12.300000\n",
       "75%          19.300000\n",
       "max         787.840000\n",
       "Name: total_amount, dtype: float64"
      ]
     },
     "execution_count": 53,
     "metadata": {},
     "output_type": "execute_result"
    }
   ],
   "source": [
    "datos_sample[\"total_amount\"].describe()"
   ]
  },
  {
   "cell_type": "code",
   "execution_count": 54,
   "metadata": {},
   "outputs": [
    {
     "data": {
      "text/plain": [
       "(array([1.60000e+01, 8.13518e+05, 5.55300e+03, 4.40000e+01, 6.00000e+00,\n",
       "        0.00000e+00, 0.00000e+00, 0.00000e+00, 0.00000e+00, 1.00000e+00]),\n",
       " array([-110.   ,  -20.216,   69.568,  159.352,  249.136,  338.92 ,\n",
       "         428.704,  518.488,  608.272,  698.056,  787.84 ]),\n",
       " <a list of 10 Patch objects>)"
      ]
     },
     "execution_count": 54,
     "metadata": {},
     "output_type": "execute_result"
    },
    {
     "data": {
      "image/png": "[encoded data removed]",
      "text/plain": [
       "<Figure size 432x288 with 1 Axes>"
      ]
     },
     "metadata": {
      "needs_background": "light"
     },
     "output_type": "display_data"
    }
   ],
   "source": [
    "plt.hist(datos_sample[\"total_amount\"])"
   ]
  },
  {
   "cell_type": "code",
   "execution_count": 55,
   "metadata": {},
   "outputs": [],
   "source": [
    "datos_sample = datos_sample[datos_sample[\"total_amount\"] > 0]"
   ]
  },
  {
   "cell_type": "code",
   "execution_count": 56,
   "metadata": {},
   "outputs": [
    {
     "data": {
      "text/plain": [
       "(array([4.50000e+01, 2.10000e+01, 5.72530e+04, 4.03900e+05, 2.50335e+05,\n",
       "        8.82870e+04, 1.71690e+04, 3.90000e+02, 7.00000e+00, 1.00000e+00]),\n",
       " array([0.00995033, 0.67601165, 1.34207297, 2.00813429, 2.6741956 ,\n",
       "        3.34025692, 4.00631824, 4.67237956, 5.33844088, 6.00450219,\n",
       "        6.67056351]),\n",
       " <a list of 10 Patch objects>)"
      ]
     },
     "execution_count": 56,
     "metadata": {},
     "output_type": "execute_result"
    },
    {
     "data": {
      "image/png": "[encoded data removed]",
      "text/plain": [
       "<Figure size 432x288 with 1 Axes>"
      ]
     },
     "metadata": {
      "needs_background": "light"
     },
     "output_type": "display_data"
    }
   ],
   "source": [
    "plt.hist(np.log1p(datos_sample[\"total_amount\"]))"
   ]
  },
  {
   "cell_type": "code",
   "execution_count": 57,
   "metadata": {},
   "outputs": [],
   "source": [
    "datos_sample = datos_sample[datos_sample[\"total_amount\"] >= 5]"
   ]
  },
  {
   "cell_type": "code",
   "execution_count": 58,
   "metadata": {},
   "outputs": [
    {
     "data": {
      "text/plain": [
       "(array([8.12953e+05, 1.73000e+03, 3.80000e+01, 5.00000e+00, 2.00000e+00,\n",
       "        0.00000e+00, 0.00000e+00, 0.00000e+00, 0.00000e+00, 1.00000e+00]),\n",
       " array([  5.   ,  83.284, 161.568, 239.852, 318.136, 396.42 , 474.704,\n",
       "        552.988, 631.272, 709.556, 787.84 ]),\n",
       " <a list of 10 Patch objects>)"
      ]
     },
     "execution_count": 58,
     "metadata": {},
     "output_type": "execute_result"
    },
    {
     "data": {
      "image/png": "[encoded data removed]",
      "text/plain": [
       "<Figure size 432x288 with 1 Axes>"
      ]
     },
     "metadata": {
      "needs_background": "light"
     },
     "output_type": "display_data"
    }
   ],
   "source": [
    "plt.hist((datos_sample[\"total_amount\"]))"
   ]
  },
  {
   "cell_type": "code",
   "execution_count": 59,
   "metadata": {},
   "outputs": [],
   "source": [
    "datos_sample = datos_sample[datos_sample[\"total_amount\"] <= 120]"
   ]
  },
  {
   "cell_type": "markdown",
   "metadata": {},
   "source": [
    "# Seleccionando variables"
   ]
  },
  {
   "cell_type": "code",
   "execution_count": 60,
   "metadata": {},
   "outputs": [],
   "source": [
    "datos_sample2 = datos_sample[[\"key\",\"VendorID\",\"store_and_fwd_flag\",\"RatecodeID\",\"PULocationID\",\"DOLocationID\",\"passenger_count\",\"trip_distance\",\n",
    "                              \"payment_type\",\"trip_type\",\"total_amount\",\"hora_pickup\",\"dayofweek\",\"dayofmonth\",\"month\",\"time_duration\"]]\n",
    "#\"borough_pickup\",\"borough_dropoff\",\"zone_pickup\",\"zone_dropoff\""
   ]
  },
  {
   "cell_type": "code",
   "execution_count": 61,
   "metadata": {},
   "outputs": [
    {
     "data": {
      "text/plain": [
       "key                   0\n",
       "VendorID              0\n",
       "store_and_fwd_flag    0\n",
       "RatecodeID            0\n",
       "PULocationID          0\n",
       "DOLocationID          0\n",
       "passenger_count       0\n",
       "trip_distance         0\n",
       "payment_type          0\n",
       "trip_type             0\n",
       "total_amount          0\n",
       "hora_pickup           0\n",
       "dayofweek             0\n",
       "dayofmonth            0\n",
       "month                 0\n",
       "time_duration         0\n",
       "dtype: int64"
      ]
     },
     "execution_count": 61,
     "metadata": {},
     "output_type": "execute_result"
    }
   ],
   "source": [
    "datos_sample2.isnull().sum()"
   ]
  },
  {
   "cell_type": "code",
   "execution_count": 62,
   "metadata": {},
   "outputs": [
    {
     "data": {
      "text/plain": [
       "(814521, 16)"
      ]
     },
     "execution_count": 62,
     "metadata": {},
     "output_type": "execute_result"
    }
   ],
   "source": [
    "datos_sample2.shape"
   ]
  },
  {
   "cell_type": "markdown",
   "metadata": {},
   "source": [
    "# Escalando variables"
   ]
  },
  {
   "cell_type": "code",
   "execution_count": 63,
   "metadata": {},
   "outputs": [],
   "source": [
    "from sklearn.preprocessing import RobustScaler\n",
    "rbs = RobustScaler()"
   ]
  },
  {
   "cell_type": "code",
   "execution_count": 64,
   "metadata": {},
   "outputs": [
    {
     "data": {
      "text/plain": [
       "Index(['key', 'VendorID', 'store_and_fwd_flag', 'RatecodeID', 'PULocationID',\n",
       "       'DOLocationID', 'passenger_count', 'trip_distance', 'payment_type',\n",
       "       'trip_type', 'total_amount', 'hora_pickup', 'dayofweek', 'dayofmonth',\n",
       "       'month', 'time_duration'],\n",
       "      dtype='object')"
      ]
     },
     "execution_count": 64,
     "metadata": {},
     "output_type": "execute_result"
    }
   ],
   "source": [
    "datos_sample2.columns"
   ]
  },
  {
   "cell_type": "code",
   "execution_count": 65,
   "metadata": {},
   "outputs": [
    {
     "name": "stderr",
     "output_type": "stream",
     "text": [
      "/home/michael/.local/lib/python3.6/site-packages/ipykernel_launcher.py:1: SettingWithCopyWarning: \n",
      "A value is trying to be set on a copy of a slice from a DataFrame.\n",
      "Try using .loc[row_indexer,col_indexer] = value instead\n",
      "\n",
      "See the caveats in the documentation: http://pandas.pydata.org/pandas-docs/stable/indexing.html#indexing-view-versus-copy\n",
      "  \"\"\"Entry point for launching an IPython kernel.\n"
     ]
    }
   ],
   "source": [
    "datos_sample2[\"key\"] = range(datos_sample2.shape[0])"
   ]
  },
  {
   "cell_type": "code",
   "execution_count": 66,
   "metadata": {},
   "outputs": [],
   "source": [
    "X_num = datos_sample2.drop([\"key\",\"time_duration\",\"total_amount\"],axis = 1)\n",
    "X_scaled = rbs.fit_transform(X_num)\n",
    "X_scaled = pd.DataFrame(X_scaled)\n",
    "X_scaled.columns = ['VendorID', 'store_and_fwd_flag', 'RatecodeID', 'PULocationID', 'DOLocationID', 'passenger_count', \"trip_distance\", 'payment_type',\n",
    "                    'trip_type', 'hora_pickup', 'dayofweek', 'dayofmonth', 'month']"
   ]
  },
  {
   "cell_type": "code",
   "execution_count": 67,
   "metadata": {},
   "outputs": [],
   "source": [
    "X_scaled[\"key1\"] = range(X_scaled.shape[0])\n",
    "X = X_scaled\n",
    "y = datos_sample2[\"time_duration\"]"
   ]
  },
  {
   "cell_type": "markdown",
   "metadata": {},
   "source": [
    "# target"
   ]
  },
  {
   "cell_type": "code",
   "execution_count": 68,
   "metadata": {},
   "outputs": [
    {
     "data": {
      "text/plain": [
       "(array([5.05684e+05, 1.91948e+05, 6.69770e+04, 2.71990e+04, 1.23080e+04,\n",
       "        5.76700e+03, 2.65500e+03, 1.21100e+03, 5.32000e+02, 2.40000e+02]),\n",
       " array([ 181. ,  882.6, 1584.2, 2285.8, 2987.4, 3689. , 4390.6, 5092.2,\n",
       "        5793.8, 6495.4, 7197. ]),\n",
       " <a list of 10 Patch objects>)"
      ]
     },
     "execution_count": 68,
     "metadata": {},
     "output_type": "execute_result"
    },
    {
     "data": {
      "image/png": "[encoded data removed]",
      "text/plain": [
       "<Figure size 432x288 with 1 Axes>"
      ]
     },
     "metadata": {
      "needs_background": "light"
     },
     "output_type": "display_data"
    }
   ],
   "source": [
    "plt.hist(y)"
   ]
  },
  {
   "cell_type": "markdown",
   "metadata": {},
   "source": [
    "# Particion train-test"
   ]
  },
  {
   "cell_type": "code",
   "execution_count": 69,
   "metadata": {},
   "outputs": [],
   "source": [
    "from sklearn.model_selection import train_test_split\n",
    "X_train, X_test, y_train, y_test = train_test_split(X,y,test_size = 0.3,random_state = 42)"
   ]
  },
  {
   "cell_type": "code",
   "execution_count": 70,
   "metadata": {},
   "outputs": [],
   "source": [
    "Val_train = pd.DataFrame(X_train[\"key1\"])\n",
    "Val_test = pd.DataFrame(X_test[\"key1\"])\n",
    "X_train = X_train.drop(\"key1\",axis = 1)\n",
    "X_test = X_test.drop(\"key1\",axis = 1)"
   ]
  },
  {
   "cell_type": "code",
   "execution_count": 71,
   "metadata": {},
   "outputs": [
    {
     "data": {
      "text/plain": [
       "((570164, 13), (570164,), (244357, 13), (244357,))"
      ]
     },
     "execution_count": 71,
     "metadata": {},
     "output_type": "execute_result"
    }
   ],
   "source": [
    "X_train.shape,y_train.shape,X_test.shape,y_test.shape"
   ]
  },
  {
   "cell_type": "markdown",
   "metadata": {},
   "source": [
    "# Comparacion de Modelos"
   ]
  },
  {
   "cell_type": "markdown",
   "metadata": {},
   "source": [
    "**Modelo Regresion Lineal**"
   ]
  },
  {
   "cell_type": "code",
   "execution_count": 72,
   "metadata": {},
   "outputs": [],
   "source": [
    "from sklearn.linear_model import LinearRegression\n",
    "rl = LinearRegression()"
   ]
  },
  {
   "cell_type": "code",
   "execution_count": 73,
   "metadata": {},
   "outputs": [],
   "source": [
    "mod_rl = rl.fit(X_train,y_train)"
   ]
  },
  {
   "cell_type": "code",
   "execution_count": 74,
   "metadata": {},
   "outputs": [],
   "source": [
    "pred_rl = mod_rl.predict(X_test)"
   ]
  },
  {
   "cell_type": "markdown",
   "metadata": {},
   "source": [
    "**Metricas**"
   ]
  },
  {
   "cell_type": "code",
   "execution_count": 75,
   "metadata": {},
   "outputs": [
    {
     "data": {
      "text/plain": [
       "(186501.48684134806, 431.8581790835367)"
      ]
     },
     "execution_count": 75,
     "metadata": {},
     "output_type": "execute_result"
    }
   ],
   "source": [
    "from sklearn.metrics import mean_squared_error\n",
    "\n",
    "mean_squared_error(y_test,pred_rl),mean_squared_error(y_test,pred_rl)**(0.5)"
   ]
  },
  {
   "cell_type": "code",
   "execution_count": 76,
   "metadata": {},
   "outputs": [
    {
     "data": {
      "text/plain": [
       "276.554798225868"
      ]
     },
     "execution_count": 76,
     "metadata": {},
     "output_type": "execute_result"
    }
   ],
   "source": [
    "from sklearn.metrics import mean_absolute_error\n",
    "\n",
    "mean_absolute_error(y_test,pred_rl)"
   ]
  },
  {
   "cell_type": "code",
   "execution_count": 77,
   "metadata": {},
   "outputs": [
    {
     "data": {
      "text/plain": [
       "36.28626748156083"
      ]
     },
     "execution_count": 77,
     "metadata": {},
     "output_type": "execute_result"
    }
   ],
   "source": [
    "def mean_absolute_percentage_error(y_true, y_pred):\n",
    "    y_true, y_pred = np.array(y_true), np.array(y_pred)\n",
    "    return np.mean(np.abs((y_true - y_pred) / y_true)) * 100\n",
    "\n",
    "mean_absolute_percentage_error(y_test,pred_rl)"
   ]
  },
  {
   "cell_type": "code",
   "execution_count": 78,
   "metadata": {},
   "outputs": [
    {
     "data": {
      "text/plain": [
       "0.8251936218667638"
      ]
     },
     "execution_count": 78,
     "metadata": {},
     "output_type": "execute_result"
    }
   ],
   "source": [
    "# Correlation\n",
    "def corr_test(y_true,y_pred):\n",
    "    return np.corrcoef(y_true,y_pred)[0][1]\n",
    "\n",
    "corr_test(y_test,pred_rl)"
   ]
  },
  {
   "cell_type": "markdown",
   "metadata": {},
   "source": [
    "**Modelo Lasso**"
   ]
  },
  {
   "cell_type": "code",
   "execution_count": 79,
   "metadata": {},
   "outputs": [],
   "source": [
    "from sklearn.linear_model import Lasso\n",
    "lasso_ = Lasso(alpha = 0.001)"
   ]
  },
  {
   "cell_type": "code",
   "execution_count": 80,
   "metadata": {},
   "outputs": [],
   "source": [
    "mod_lasso = lasso_.fit(X_train,y_train)"
   ]
  },
  {
   "cell_type": "code",
   "execution_count": 81,
   "metadata": {},
   "outputs": [],
   "source": [
    "pred_lasso = mod_lasso.predict(X_test)"
   ]
  },
  {
   "cell_type": "markdown",
   "metadata": {},
   "source": [
    "**Metricas**"
   ]
  },
  {
   "cell_type": "code",
   "execution_count": 82,
   "metadata": {},
   "outputs": [
    {
     "data": {
      "text/plain": [
       "(186501.6212771757, 431.858334731629)"
      ]
     },
     "execution_count": 82,
     "metadata": {},
     "output_type": "execute_result"
    }
   ],
   "source": [
    "from sklearn.metrics import mean_squared_error\n",
    "\n",
    "mean_squared_error(y_test,pred_lasso),mean_squared_error(y_test,pred_lasso)**(0.5)"
   ]
  },
  {
   "cell_type": "code",
   "execution_count": 83,
   "metadata": {},
   "outputs": [
    {
     "data": {
      "text/plain": [
       "276.5547139858097"
      ]
     },
     "execution_count": 83,
     "metadata": {},
     "output_type": "execute_result"
    }
   ],
   "source": [
    "from sklearn.metrics import mean_absolute_error\n",
    "\n",
    "mean_absolute_error(y_test,pred_lasso)"
   ]
  },
  {
   "cell_type": "code",
   "execution_count": 84,
   "metadata": {},
   "outputs": [
    {
     "data": {
      "text/plain": [
       "36.28632065552905"
      ]
     },
     "execution_count": 84,
     "metadata": {},
     "output_type": "execute_result"
    }
   ],
   "source": [
    "def mean_absolute_percentage_error(y_true, y_pred):\n",
    "    y_true, y_pred = np.array(y_true), np.array(y_pred)\n",
    "    return np.mean(np.abs((y_true - y_pred) / y_true)) * 100\n",
    "\n",
    "mean_absolute_percentage_error(y_test,pred_lasso)"
   ]
  },
  {
   "cell_type": "code",
   "execution_count": 85,
   "metadata": {},
   "outputs": [
    {
     "data": {
      "text/plain": [
       "0.8251934869737487"
      ]
     },
     "execution_count": 85,
     "metadata": {},
     "output_type": "execute_result"
    }
   ],
   "source": [
    "# Correlation\n",
    "def corr_test(y_true,y_pred):\n",
    "    return np.corrcoef(y_true,y_pred)[0][1]\n",
    "\n",
    "corr_test(y_test,pred_lasso)"
   ]
  },
  {
   "cell_type": "markdown",
   "metadata": {},
   "source": [
    "**Modelo Rigde**"
   ]
  },
  {
   "cell_type": "code",
   "execution_count": 86,
   "metadata": {},
   "outputs": [],
   "source": [
    "from sklearn.linear_model import Ridge\n",
    "ridge_ = Ridge(alpha = 10000)"
   ]
  },
  {
   "cell_type": "code",
   "execution_count": 87,
   "metadata": {},
   "outputs": [],
   "source": [
    "mod_ridge = ridge_.fit(X_train,y_train)"
   ]
  },
  {
   "cell_type": "code",
   "execution_count": 88,
   "metadata": {},
   "outputs": [],
   "source": [
    "pred_ridge = mod_ridge.predict(X_test)"
   ]
  },
  {
   "cell_type": "markdown",
   "metadata": {},
   "source": [
    "**Metricas**"
   ]
  },
  {
   "cell_type": "code",
   "execution_count": 89,
   "metadata": {},
   "outputs": [
    {
     "data": {
      "text/plain": [
       "(186709.05648246757, 432.0984337884917)"
      ]
     },
     "execution_count": 89,
     "metadata": {},
     "output_type": "execute_result"
    }
   ],
   "source": [
    "from sklearn.metrics import mean_squared_error\n",
    "\n",
    "mean_squared_error(y_test,pred_ridge),mean_squared_error(y_test,pred_ridge)**(0.5)"
   ]
  },
  {
   "cell_type": "code",
   "execution_count": 90,
   "metadata": {},
   "outputs": [
    {
     "data": {
      "text/plain": [
       "277.3942220987212"
      ]
     },
     "execution_count": 90,
     "metadata": {},
     "output_type": "execute_result"
    }
   ],
   "source": [
    "from sklearn.metrics import mean_absolute_error\n",
    "\n",
    "mean_absolute_error(y_test,pred_ridge)"
   ]
  },
  {
   "cell_type": "code",
   "execution_count": 91,
   "metadata": {},
   "outputs": [
    {
     "data": {
      "text/plain": [
       "36.65618282642852"
      ]
     },
     "execution_count": 91,
     "metadata": {},
     "output_type": "execute_result"
    }
   ],
   "source": [
    "def mean_absolute_percentage_error(y_true, y_pred):\n",
    "    y_true, y_pred = np.array(y_true), np.array(y_pred)\n",
    "    return np.mean(np.abs((y_true - y_pred) / y_true)) * 100\n",
    "\n",
    "mean_absolute_percentage_error(y_test,pred_ridge)"
   ]
  },
  {
   "cell_type": "code",
   "execution_count": 92,
   "metadata": {},
   "outputs": [
    {
     "data": {
      "text/plain": [
       "0.8250438966013076"
      ]
     },
     "execution_count": 92,
     "metadata": {},
     "output_type": "execute_result"
    }
   ],
   "source": [
    "# Correlation\n",
    "def corr_test(y_true,y_pred):\n",
    "    return np.corrcoef(y_true,y_pred)[0][1]\n",
    "\n",
    "corr_test(y_test,pred_ridge)"
   ]
  },
  {
   "cell_type": "markdown",
   "metadata": {},
   "source": [
    "**Modelo GBM**"
   ]
  },
  {
   "cell_type": "code",
   "execution_count": 93,
   "metadata": {},
   "outputs": [],
   "source": [
    "from sklearn.ensemble import GradientBoostingRegressor\n",
    "gbm = GradientBoostingRegressor()"
   ]
  },
  {
   "cell_type": "code",
   "execution_count": 94,
   "metadata": {},
   "outputs": [],
   "source": [
    "mod_gbm = gbm.fit(X_train,y_train)"
   ]
  },
  {
   "cell_type": "code",
   "execution_count": 95,
   "metadata": {},
   "outputs": [],
   "source": [
    "pred_gbm = mod_gbm.predict(X_test)"
   ]
  },
  {
   "cell_type": "markdown",
   "metadata": {},
   "source": [
    "**Metricas**"
   ]
  },
  {
   "cell_type": "code",
   "execution_count": 96,
   "metadata": {},
   "outputs": [
    {
     "data": {
      "text/plain": [
       "(130782.09378552488, 361.6380701551274)"
      ]
     },
     "execution_count": 96,
     "metadata": {},
     "output_type": "execute_result"
    }
   ],
   "source": [
    "from sklearn.metrics import mean_squared_error\n",
    "\n",
    "mean_squared_error(y_test,pred_gbm),mean_squared_error(y_test,pred_gbm)**(0.5)"
   ]
  },
  {
   "cell_type": "code",
   "execution_count": 97,
   "metadata": {},
   "outputs": [
    {
     "data": {
      "text/plain": [
       "219.1266322319562"
      ]
     },
     "execution_count": 97,
     "metadata": {},
     "output_type": "execute_result"
    }
   ],
   "source": [
    "from sklearn.metrics import mean_absolute_error\n",
    "\n",
    "mean_absolute_error(y_test,pred_gbm)"
   ]
  },
  {
   "cell_type": "code",
   "execution_count": 98,
   "metadata": {},
   "outputs": [
    {
     "data": {
      "text/plain": [
       "25.089616280239994"
      ]
     },
     "execution_count": 98,
     "metadata": {},
     "output_type": "execute_result"
    }
   ],
   "source": [
    "def mean_absolute_percentage_error(y_true, y_pred):\n",
    "    y_true, y_pred = np.array(y_true), np.array(y_pred)\n",
    "    return np.mean(np.abs((y_true - y_pred) / y_true)) * 100\n",
    "\n",
    "mean_absolute_percentage_error(y_test,pred_gbm)"
   ]
  },
  {
   "cell_type": "code",
   "execution_count": 99,
   "metadata": {},
   "outputs": [
    {
     "data": {
      "text/plain": [
       "0.8813531772697164"
      ]
     },
     "execution_count": 99,
     "metadata": {},
     "output_type": "execute_result"
    }
   ],
   "source": [
    "# Correlation\n",
    "def corr_test(y_true,y_pred):\n",
    "    return np.corrcoef(y_true,y_pred)[0][1]\n",
    "\n",
    "corr_test((y_test),(pred_gbm))"
   ]
  },
  {
   "cell_type": "markdown",
   "metadata": {},
   "source": [
    "**Modelo RandomForest**"
   ]
  },
  {
   "cell_type": "code",
   "execution_count": 100,
   "metadata": {},
   "outputs": [],
   "source": [
    "from sklearn.ensemble import RandomForestRegressor\n",
    "rf = RandomForestRegressor()"
   ]
  },
  {
   "cell_type": "code",
   "execution_count": 101,
   "metadata": {},
   "outputs": [
    {
     "name": "stderr",
     "output_type": "stream",
     "text": [
      "/home/michael/.local/lib/python3.6/site-packages/sklearn/ensemble/forest.py:246: FutureWarning: The default value of n_estimators will change from 10 in version 0.20 to 100 in 0.22.\n",
      "  \"10 in version 0.20 to 100 in 0.22.\", FutureWarning)\n"
     ]
    }
   ],
   "source": [
    "mod_rf = rf.fit(X_train,y_train)"
   ]
  },
  {
   "cell_type": "code",
   "execution_count": 102,
   "metadata": {},
   "outputs": [],
   "source": [
    "pred_rf = mod_rf.predict(X_test)"
   ]
  },
  {
   "cell_type": "markdown",
   "metadata": {},
   "source": [
    "**Metricas**"
   ]
  },
  {
   "cell_type": "code",
   "execution_count": 103,
   "metadata": {},
   "outputs": [
    {
     "data": {
      "text/plain": [
       "(123124.91042701606, 350.89159355421447)"
      ]
     },
     "execution_count": 103,
     "metadata": {},
     "output_type": "execute_result"
    }
   ],
   "source": [
    "from sklearn.metrics import mean_squared_error\n",
    "\n",
    "mean_squared_error(y_test,pred_rf),mean_squared_error(y_test,pred_rf)**(0.5)"
   ]
  },
  {
   "cell_type": "code",
   "execution_count": 104,
   "metadata": {},
   "outputs": [
    {
     "data": {
      "text/plain": [
       "211.39875847925077"
      ]
     },
     "execution_count": 104,
     "metadata": {},
     "output_type": "execute_result"
    }
   ],
   "source": [
    "from sklearn.metrics import mean_absolute_error\n",
    "\n",
    "mean_absolute_error(y_test,pred_rf)"
   ]
  },
  {
   "cell_type": "code",
   "execution_count": 105,
   "metadata": {},
   "outputs": [
    {
     "data": {
      "text/plain": [
       "24.07336522268841"
      ]
     },
     "execution_count": 105,
     "metadata": {},
     "output_type": "execute_result"
    }
   ],
   "source": [
    "def mean_absolute_percentage_error(y_true, y_pred):\n",
    "    y_true, y_pred = np.array(y_true), np.array(y_pred)\n",
    "    return np.mean(np.abs((y_true - y_pred) / y_true)) * 100\n",
    "\n",
    "mean_absolute_percentage_error(y_test,pred_rf)"
   ]
  },
  {
   "cell_type": "code",
   "execution_count": 106,
   "metadata": {},
   "outputs": [
    {
     "data": {
      "text/plain": [
       "0.8891056979269993"
      ]
     },
     "execution_count": 106,
     "metadata": {},
     "output_type": "execute_result"
    }
   ],
   "source": [
    "# Correlation\n",
    "def corr_test(y_true,y_pred):\n",
    "    return np.corrcoef(y_true,y_pred)[0][1]\n",
    "\n",
    "corr_test((y_test),(pred_rf))"
   ]
  },
  {
   "cell_type": "markdown",
   "metadata": {},
   "source": [
    "# Importancia de variables"
   ]
  },
  {
   "cell_type": "code",
   "execution_count": 107,
   "metadata": {},
   "outputs": [],
   "source": [
    "feature_importances = pd.DataFrame(mod_rf.feature_importances_,\n",
    "                                   index = X_train.columns,\n",
    "                                   columns=['importance']).sort_values('importance',ascending=False)"
   ]
  },
  {
   "cell_type": "code",
   "execution_count": 108,
   "metadata": {},
   "outputs": [
    {
     "data": {
      "text/html": [
       "<div>\n",
       "<style scoped>\n",
       "    .dataframe tbody tr th:only-of-type {\n",
       "        vertical-align: middle;\n",
       "    }\n",
       "\n",
       "    .dataframe tbody tr th {\n",
       "        vertical-align: top;\n",
       "    }\n",
       "\n",
       "    .dataframe thead th {\n",
       "        text-align: right;\n",
       "    }\n",
       "</style>\n",
       "<table border=\"1\" class=\"dataframe\">\n",
       "  <thead>\n",
       "    <tr style=\"text-align: right;\">\n",
       "      <th></th>\n",
       "      <th>importance</th>\n",
       "    </tr>\n",
       "  </thead>\n",
       "  <tbody>\n",
       "    <tr>\n",
       "      <th>trip_distance</th>\n",
       "      <td>0.746560</td>\n",
       "    </tr>\n",
       "    <tr>\n",
       "      <th>hora_pickup</th>\n",
       "      <td>0.062327</td>\n",
       "    </tr>\n",
       "    <tr>\n",
       "      <th>DOLocationID</th>\n",
       "      <td>0.053854</td>\n",
       "    </tr>\n",
       "    <tr>\n",
       "      <th>PULocationID</th>\n",
       "      <td>0.043109</td>\n",
       "    </tr>\n",
       "    <tr>\n",
       "      <th>dayofmonth</th>\n",
       "      <td>0.029485</td>\n",
       "    </tr>\n",
       "    <tr>\n",
       "      <th>dayofweek</th>\n",
       "      <td>0.023346</td>\n",
       "    </tr>\n",
       "    <tr>\n",
       "      <th>month</th>\n",
       "      <td>0.023260</td>\n",
       "    </tr>\n",
       "    <tr>\n",
       "      <th>passenger_count</th>\n",
       "      <td>0.005911</td>\n",
       "    </tr>\n",
       "    <tr>\n",
       "      <th>payment_type</th>\n",
       "      <td>0.005052</td>\n",
       "    </tr>\n",
       "    <tr>\n",
       "      <th>VendorID</th>\n",
       "      <td>0.003307</td>\n",
       "    </tr>\n",
       "    <tr>\n",
       "      <th>RatecodeID</th>\n",
       "      <td>0.002345</td>\n",
       "    </tr>\n",
       "    <tr>\n",
       "      <th>trip_type</th>\n",
       "      <td>0.001243</td>\n",
       "    </tr>\n",
       "    <tr>\n",
       "      <th>store_and_fwd_flag</th>\n",
       "      <td>0.000202</td>\n",
       "    </tr>\n",
       "  </tbody>\n",
       "</table>\n",
       "</div>"
      ],
      "text/plain": [
       "                    importance\n",
       "trip_distance         0.746560\n",
       "hora_pickup           0.062327\n",
       "DOLocationID          0.053854\n",
       "PULocationID          0.043109\n",
       "dayofmonth            0.029485\n",
       "dayofweek             0.023346\n",
       "month                 0.023260\n",
       "passenger_count       0.005911\n",
       "payment_type          0.005052\n",
       "VendorID              0.003307\n",
       "RatecodeID            0.002345\n",
       "trip_type             0.001243\n",
       "store_and_fwd_flag    0.000202"
      ]
     },
     "execution_count": 108,
     "metadata": {},
     "output_type": "execute_result"
    }
   ],
   "source": [
    "feature_importances"
   ]
  },
  {
   "cell_type": "markdown",
   "metadata": {},
   "source": [
    "# Revisando predicciones"
   ]
  },
  {
   "cell_type": "code",
   "execution_count": 109,
   "metadata": {},
   "outputs": [],
   "source": [
    "Val_train.columns = [\"key\"]\n",
    "Val_test.columns = [\"key\"]\n",
    "\n",
    "datos_sample_train = datos_sample2.merge(Val_train)\n",
    "datos_sample_test = datos_sample2.merge(Val_test)"
   ]
  },
  {
   "cell_type": "code",
   "execution_count": 110,
   "metadata": {},
   "outputs": [
    {
     "data": {
      "text/plain": [
       "((570164, 16), (244357, 16))"
      ]
     },
     "execution_count": 110,
     "metadata": {},
     "output_type": "execute_result"
    }
   ],
   "source": [
    "datos_sample_train.shape,datos_sample_test.shape"
   ]
  },
  {
   "cell_type": "code",
   "execution_count": 111,
   "metadata": {},
   "outputs": [],
   "source": [
    "datos_sample_test[\"pred_time_duration\"] = (pred_rf)"
   ]
  },
  {
   "cell_type": "markdown",
   "metadata": {},
   "source": [
    "# rankeo Predicciones"
   ]
  },
  {
   "cell_type": "code",
   "execution_count": 112,
   "metadata": {},
   "outputs": [
    {
     "data": {
      "text/plain": [
       "array([ 188.5 ,  329.2 ,  413.12,  504.7 ,  608.3 ,  727.9 ,  877.2 ,\n",
       "       1075.8 , 1357.9 , 1858.74])"
      ]
     },
     "execution_count": 112,
     "metadata": {},
     "output_type": "execute_result"
    }
   ],
   "source": [
    "np.percentile(datos_sample_test[\"pred_time_duration\"], np.arange(0, 100, 10)) # deciles"
   ]
  },
  {
   "cell_type": "code",
   "execution_count": 113,
   "metadata": {},
   "outputs": [],
   "source": [
    "range_pred_duration = []\n",
    "for value in datos_sample_test[\"pred_time_duration\"]:\n",
    "    if value <= 320:\n",
    "        range_pred_duration.append(\"1.[0 - 329]\")\n",
    "    elif value <= 400:\n",
    "        range_pred_duration.append(\"2.[330 - 413]\")\n",
    "    elif value <= 485:\n",
    "        range_pred_duration.append(\"3.[414 - 503]\")\n",
    "    elif value <= 585:\n",
    "        range_pred_duration.append(\"4.[504 - 608]\")\n",
    "    elif value <= 700:\n",
    "        range_pred_duration.append(\"5.[609 - 730]\")\n",
    "    elif value <= 850:\n",
    "        range_pred_duration.append(\"6.[731 - 883]\")\n",
    "    elif value <= 1035:\n",
    "        range_pred_duration.append(\"7.[884 - 1080]\")\n",
    "    elif value <= 1300:\n",
    "        range_pred_duration.append(\"8.[1081 - 1362]\")\n",
    "    elif value <= 1780:\n",
    "        range_pred_duration.append(\"9.[1363 - 1868]\")\n",
    "    else:\n",
    "        range_pred_duration.append(\"10.[1869 - Mas]\")\n",
    "\n",
    "datos_sample_test[\"range_pred_time_duration\"] = range_pred_duration"
   ]
  },
  {
   "cell_type": "markdown",
   "metadata": {},
   "source": [
    "# calidad predicciones"
   ]
  },
  {
   "cell_type": "code",
   "execution_count": 114,
   "metadata": {},
   "outputs": [],
   "source": [
    "datos_sample_test[\"range_dif\"] = np.abs(datos_sample_test[\"time_duration\"] - datos_sample_test[\"pred_time_duration\"])"
   ]
  },
  {
   "cell_type": "code",
   "execution_count": 115,
   "metadata": {},
   "outputs": [],
   "source": [
    "datos_sample_test[\"perc_dif\"] = datos_sample_test[\"range_dif\"] / datos_sample_test[\"time_duration\"]"
   ]
  },
  {
   "cell_type": "code",
   "execution_count": 117,
   "metadata": {},
   "outputs": [
    {
     "data": {
      "text/plain": [
       "count    244357.000000\n",
       "mean          1.078720\n",
       "std           1.583013\n",
       "min           0.000000\n",
       "25%           0.303770\n",
       "50%           0.594788\n",
       "75%           1.029749\n",
       "max          27.919149\n",
       "Name: perc_dif, dtype: float64"
      ]
     },
     "execution_count": 117,
     "metadata": {},
     "output_type": "execute_result"
    }
   ],
   "source": [
    "datos_sample_test[\"perc_dif\"].describe()"
   ]
  },
  {
   "cell_type": "markdown",
   "metadata": {},
   "source": [
    "# Graficando las zonas"
   ]
  },
  {
   "cell_type": "code",
   "execution_count": 121,
   "metadata": {},
   "outputs": [
    {
     "name": "stderr",
     "output_type": "stream",
     "text": [
      "/usr/local/lib/python3.6/dist-packages/pysal/model/spvcm/abstracts.py:10: UserWarning: The `dill` module is required to use the sqlite backend fully.\n",
      "  from .sqlite import head_to_sql, start_sql\n"
     ]
    }
   ],
   "source": [
    "import matplotlib.pyplot as plt\n",
    "import geopandas as gpd\n",
    "import pysal as ps"
   ]
  },
  {
   "cell_type": "code",
   "execution_count": 122,
   "metadata": {},
   "outputs": [],
   "source": [
    "import shapefile as shp\n",
    "\n",
    "sf = shp.Reader(\"/home/michael/Kschool/TFM/Importe_Taxi/taxi_zones/taxi_zones.shp\")"
   ]
  },
  {
   "cell_type": "code",
   "execution_count": 123,
   "metadata": {},
   "outputs": [],
   "source": [
    "def plot_map(sf, x_lim = None, y_lim = None, figsize = (11,9)):\n",
    "    '''\n",
    "    Plot map with lim coordinates\n",
    "    '''\n",
    "    plt.figure(figsize = figsize)\n",
    "    id=0\n",
    "    for shape in sf.shapeRecords():\n",
    "        x = [i[0] for i in shape.shape.points[:]]\n",
    "        y = [i[1] for i in shape.shape.points[:]]\n",
    "        plt.plot(x, y, 'k')\n",
    "        \n",
    "        if (x_lim == None) & (y_lim == None):\n",
    "            x0 = np.mean(x)\n",
    "            y0 = np.mean(y)\n",
    "            plt.text(x0, y0, id, fontsize=10)\n",
    "        id = id+1\n",
    "    \n",
    "    if (x_lim != None) & (y_lim != None):     \n",
    "        plt.xlim(x_lim)\n",
    "        plt.ylim(y_lim)"
   ]
  },
  {
   "cell_type": "code",
   "execution_count": 124,
   "metadata": {},
   "outputs": [],
   "source": [
    "def read_shapefile(sf):\n",
    "    \"\"\"\n",
    "    Read a shapefile into a Pandas dataframe with a 'coords' \n",
    "    column holding the geometry information. This uses the pyshp\n",
    "    package\n",
    "    \"\"\"\n",
    "    fields = [x[0] for x in sf.fields][1:]\n",
    "    records = sf.records()\n",
    "    shps = [s.points for s in sf.shapes()]\n",
    "\n",
    "    df = pd.DataFrame(columns=fields, data=records)\n",
    "    df = df.assign(coords=shps)\n",
    "\n",
    "    return df"
   ]
  },
  {
   "cell_type": "code",
   "execution_count": 125,
   "metadata": {},
   "outputs": [],
   "source": [
    "import seaborn as sns\n",
    "\n",
    "def calc_color(data, color=None):\n",
    "    if color   == 1: \n",
    "        color_sq =  ['#dadaebFF','#bcbddcF0','#9e9ac8F0', '#807dbaF0','#6a51a3F0','#54278fF0']; \n",
    "        colors = 'Purples';\n",
    "    elif color == 2:\n",
    "        color_sq = ['#c7e9b4','#7fcdbb','#41b6c4', '#1d91c0','#225ea8','#253494']; \n",
    "        colors = 'YlGnBu';\n",
    "    elif color == 3: \n",
    "        color_sq = ['#f7f7f7','#d9d9d9','#bdbdbd', '#969696','#636363','#252525']; \n",
    "        colors = 'Greys';\n",
    "    elif color == 9: \n",
    "        color_sq = ['#ff0000','#ff0000','#ff0000', '#ff0000','#ff0000','#ff0000']\n",
    "    else:\n",
    "        color_sq = ['#ffffd4','#fee391','#fec44f', '#fe9929','#d95f0e','#993404'];        \n",
    "        colors = 'YlOrBr';\n",
    "    new_data, bins = pd.qcut(data, 6, retbins=True, labels=list(range(6)))\n",
    "    color_ton = []\n",
    "    for val in new_data:\n",
    "        color_ton.append(color_sq[val]) \n",
    "    if color != 9:\n",
    "        colors = sns.color_palette(colors, n_colors=6)\n",
    "        sns.palplot(colors, 0.6);\n",
    "    for i in range(6):\n",
    "        print (\"\\n\"+str(i+1)+': '+str(int(bins[i]))+\" => \"+str(int(bins[i+1])-1), end =\" \")\n",
    "        print(\"\\n\\n   1   2   3   4   5   6\")    \n",
    "        return color_ton, bins;"
   ]
  },
  {
   "cell_type": "code",
   "execution_count": 126,
   "metadata": {},
   "outputs": [],
   "source": [
    "def plot_map_fill_multiples_ids_tone(sf, title, comuna,  \n",
    "                                     print_id, color_ton, \n",
    "                                     bins, \n",
    "                                     x_lim = None, \n",
    "                                     y_lim = None, \n",
    "                                     figsize = (11,9)):\n",
    "    '''\n",
    "    Plot map with lim coordinates\n",
    "    '''\n",
    "        \n",
    "    plt.figure(figsize = figsize)\n",
    "    fig, ax = plt.subplots(figsize = figsize)\n",
    "    fig.suptitle(title, fontsize=16)\n",
    "    \n",
    "    for shape in sf.shapeRecords():\n",
    "        x = [i[0] for i in shape.shape.points[:]]\n",
    "        y = [i[1] for i in shape.shape.points[:]]\n",
    "        ax.plot(x, y, 'k')\n",
    "            \n",
    "    for id in comuna:\n",
    "        shape_ex = sf.shape(id)\n",
    "        x_lon = np.zeros((len(shape_ex.points),1))\n",
    "        y_lat = np.zeros((len(shape_ex.points),1))\n",
    "        for ip in range(len(shape_ex.points)):\n",
    "            x_lon[ip] = shape_ex.points[ip][0]\n",
    "            y_lat[ip] = shape_ex.points[ip][1]\n",
    "        ax.fill(x_lon,y_lat, color_ton[comuna.index(id)])\n",
    "        if print_id != False:\n",
    "            x0 = np.mean(x_lon)\n",
    "            y0 = np.mean(y_lat)\n",
    "            plt.text(x0, y0, id, fontsize=10)\n",
    "    if (x_lim != None) & (y_lim != None):     \n",
    "        plt.xlim(x_lim)\n",
    "        plt.ylim(y_lim)"
   ]
  },
  {
   "cell_type": "code",
   "execution_count": 127,
   "metadata": {},
   "outputs": [],
   "source": [
    "def plot_comunas_data(sf, title, comunas, data=None, \n",
    "                      color=None, print_id=False):\n",
    "    '''\n",
    "    Plot map with selected comunes, using specific color\n",
    "    '''\n",
    "    \n",
    "    color_ton, bins = calc_color(data, color)\n",
    "    comuna_id = []\n",
    "    for i in comunas:\n",
    "        comuna_id.append(df[df.zone == i].index.get_values()[0])\n",
    "    plot_map_fill_multiples_ids_tone(sf, title, comuna_id, \n",
    "                                     print_id, \n",
    "                                     color_ton, \n",
    "                                     bins, \n",
    "                                     x_lim = None, \n",
    "                                     y_lim = None, \n",
    "                                     figsize = (11,9));"
   ]
  },
  {
   "cell_type": "code",
   "execution_count": 128,
   "metadata": {},
   "outputs": [],
   "source": [
    "df = read_shapefile(sf)"
   ]
  },
  {
   "cell_type": "code",
   "execution_count": 147,
   "metadata": {},
   "outputs": [],
   "source": [
    "df_location = datos_sample_test.groupby(\"PULocationID\")[\"total_amount\"].sum().reset_index()\n",
    "df_location.columns = [\"LocationID\",\"total_amount\"]"
   ]
  },
  {
   "cell_type": "code",
   "execution_count": 148,
   "metadata": {},
   "outputs": [],
   "source": [
    "df = df.merge(df_location)"
   ]
  },
  {
   "cell_type": "code",
   "execution_count": 149,
   "metadata": {},
   "outputs": [
    {
     "name": "stdout",
     "output_type": "stream",
     "text": [
      "\n",
      "1: 6 => 117 \n",
      "\n",
      "   1   2   3   4   5   6\n"
     ]
    },
    {
     "data": {
      "image/png": "[encoded data removed]",
      "text/plain": [
       "<Figure size 259.2x43.2 with 1 Axes>"
      ]
     },
     "metadata": {
      "needs_background": "light"
     },
     "output_type": "display_data"
    },
    {
     "data": {
      "text/plain": [
       "<Figure size 792x648 with 0 Axes>"
      ]
     },
     "metadata": {},
     "output_type": "display_data"
    },
    {
     "data": {
      "image/png": "[encoded data removed]",
      "text/plain": [
       "<Figure size 792x648 with 1 Axes>"
      ]
     },
     "metadata": {
      "needs_background": "light"
     },
     "output_type": "display_data"
    }
   ],
   "source": [
    "title = \"Mapa de NYC\"\n",
    "names = list(df[\"zone\"])\n",
    "data = list(df[\"total_amount\"])\n",
    "\n",
    "plot_comunas_data(sf,title,names, data, 5, True)"
   ]
  },
  {
   "cell_type": "markdown",
   "metadata": {},
   "source": [
    "# Top 10 zonas con mas recaudacion de dinero"
   ]
  },
  {
   "cell_type": "code",
   "execution_count": 132,
   "metadata": {},
   "outputs": [
    {
     "data": {
      "text/html": [
       "<div>\n",
       "<style scoped>\n",
       "    .dataframe tbody tr th:only-of-type {\n",
       "        vertical-align: middle;\n",
       "    }\n",
       "\n",
       "    .dataframe tbody tr th {\n",
       "        vertical-align: top;\n",
       "    }\n",
       "\n",
       "    .dataframe thead th {\n",
       "        text-align: right;\n",
       "    }\n",
       "</style>\n",
       "<table border=\"1\" class=\"dataframe\">\n",
       "  <thead>\n",
       "    <tr style=\"text-align: right;\">\n",
       "      <th></th>\n",
       "      <th>OBJECTID</th>\n",
       "      <th>Shape_Leng</th>\n",
       "      <th>Shape_Area</th>\n",
       "      <th>zone</th>\n",
       "      <th>LocationID</th>\n",
       "      <th>borough</th>\n",
       "      <th>coords</th>\n",
       "      <th>total_amount</th>\n",
       "    </tr>\n",
       "  </thead>\n",
       "  <tbody>\n",
       "    <tr>\n",
       "      <th>67</th>\n",
       "      <td>74</td>\n",
       "      <td>0.110291</td>\n",
       "      <td>0.000295</td>\n",
       "      <td>East Harlem North</td>\n",
       "      <td>74</td>\n",
       "      <td>Manhattan</td>\n",
       "      <td>[(1002572.2760010064, 236761.57440185547), (10...</td>\n",
       "      <td>212014.22</td>\n",
       "    </tr>\n",
       "    <tr>\n",
       "      <th>68</th>\n",
       "      <td>75</td>\n",
       "      <td>0.087664</td>\n",
       "      <td>0.000241</td>\n",
       "      <td>East Harlem South</td>\n",
       "      <td>75</td>\n",
       "      <td>Manhattan</td>\n",
       "      <td>[(1000577.174697876, 228028.552730456), (10012...</td>\n",
       "      <td>194761.06</td>\n",
       "    </tr>\n",
       "    <tr>\n",
       "      <th>36</th>\n",
       "      <td>41</td>\n",
       "      <td>0.052793</td>\n",
       "      <td>0.000143</td>\n",
       "      <td>Central Harlem</td>\n",
       "      <td>41</td>\n",
       "      <td>Manhattan</td>\n",
       "      <td>[(998716.9128961712, 234240.39717498422), (999...</td>\n",
       "      <td>164261.18</td>\n",
       "    </tr>\n",
       "    <tr>\n",
       "      <th>75</th>\n",
       "      <td>82</td>\n",
       "      <td>0.119876</td>\n",
       "      <td>0.000324</td>\n",
       "      <td>Elmhurst</td>\n",
       "      <td>82</td>\n",
       "      <td>Queens</td>\n",
       "      <td>[(1020914.1317107975, 210389.71388940513), (10...</td>\n",
       "      <td>138152.39</td>\n",
       "    </tr>\n",
       "    <tr>\n",
       "      <th>3</th>\n",
       "      <td>7</td>\n",
       "      <td>0.107417</td>\n",
       "      <td>0.000390</td>\n",
       "      <td>Astoria</td>\n",
       "      <td>7</td>\n",
       "      <td>Queens</td>\n",
       "      <td>[(1010804.2179628164, 218919.64069513977), (10...</td>\n",
       "      <td>137885.69</td>\n",
       "    </tr>\n",
       "    <tr>\n",
       "      <th>152</th>\n",
       "      <td>166</td>\n",
       "      <td>0.068824</td>\n",
       "      <td>0.000255</td>\n",
       "      <td>Morningside Heights</td>\n",
       "      <td>166</td>\n",
       "      <td>Manhattan</td>\n",
       "      <td>[(996131.212920785, 235950.77747422457), (9963...</td>\n",
       "      <td>133433.12</td>\n",
       "    </tr>\n",
       "    <tr>\n",
       "      <th>225</th>\n",
       "      <td>244</td>\n",
       "      <td>0.080569</td>\n",
       "      <td>0.000360</td>\n",
       "      <td>Washington Heights South</td>\n",
       "      <td>244</td>\n",
       "      <td>Manhattan</td>\n",
       "      <td>[(1000658.6903420687, 249440.20533962548), (10...</td>\n",
       "      <td>109453.08</td>\n",
       "    </tr>\n",
       "    <tr>\n",
       "      <th>28</th>\n",
       "      <td>33</td>\n",
       "      <td>0.053270</td>\n",
       "      <td>0.000147</td>\n",
       "      <td>Brooklyn Heights</td>\n",
       "      <td>33</td>\n",
       "      <td>Brooklyn</td>\n",
       "      <td>[(985305.7563099563, 195535.75502961874), (985...</td>\n",
       "      <td>109168.54</td>\n",
       "    </tr>\n",
       "    <tr>\n",
       "      <th>90</th>\n",
       "      <td>97</td>\n",
       "      <td>0.062476</td>\n",
       "      <td>0.000163</td>\n",
       "      <td>Fort Greene</td>\n",
       "      <td>97</td>\n",
       "      <td>Brooklyn</td>\n",
       "      <td>[(992751.6986956745, 192765.1403606385), (9928...</td>\n",
       "      <td>105384.43</td>\n",
       "    </tr>\n",
       "    <tr>\n",
       "      <th>37</th>\n",
       "      <td>42</td>\n",
       "      <td>0.092709</td>\n",
       "      <td>0.000264</td>\n",
       "      <td>Central Harlem North</td>\n",
       "      <td>42</td>\n",
       "      <td>Manhattan</td>\n",
       "      <td>[(1002413.1913817227, 243934.56038284302), (10...</td>\n",
       "      <td>103907.82</td>\n",
       "    </tr>\n",
       "  </tbody>\n",
       "</table>\n",
       "</div>"
      ],
      "text/plain": [
       "     OBJECTID  Shape_Leng  Shape_Area                      zone  LocationID  \\\n",
       "67         74    0.110291    0.000295         East Harlem North          74   \n",
       "68         75    0.087664    0.000241         East Harlem South          75   \n",
       "36         41    0.052793    0.000143            Central Harlem          41   \n",
       "75         82    0.119876    0.000324                  Elmhurst          82   \n",
       "3           7    0.107417    0.000390                   Astoria           7   \n",
       "152       166    0.068824    0.000255       Morningside Heights         166   \n",
       "225       244    0.080569    0.000360  Washington Heights South         244   \n",
       "28         33    0.053270    0.000147          Brooklyn Heights          33   \n",
       "90         97    0.062476    0.000163               Fort Greene          97   \n",
       "37         42    0.092709    0.000264      Central Harlem North          42   \n",
       "\n",
       "       borough                                             coords  \\\n",
       "67   Manhattan  [(1002572.2760010064, 236761.57440185547), (10...   \n",
       "68   Manhattan  [(1000577.174697876, 228028.552730456), (10012...   \n",
       "36   Manhattan  [(998716.9128961712, 234240.39717498422), (999...   \n",
       "75      Queens  [(1020914.1317107975, 210389.71388940513), (10...   \n",
       "3       Queens  [(1010804.2179628164, 218919.64069513977), (10...   \n",
       "152  Manhattan  [(996131.212920785, 235950.77747422457), (9963...   \n",
       "225  Manhattan  [(1000658.6903420687, 249440.20533962548), (10...   \n",
       "28    Brooklyn  [(985305.7563099563, 195535.75502961874), (985...   \n",
       "90    Brooklyn  [(992751.6986956745, 192765.1403606385), (9928...   \n",
       "37   Manhattan  [(1002413.1913817227, 243934.56038284302), (10...   \n",
       "\n",
       "     total_amount  \n",
       "67      212014.22  \n",
       "68      194761.06  \n",
       "36      164261.18  \n",
       "75      138152.39  \n",
       "3       137885.69  \n",
       "152     133433.12  \n",
       "225     109453.08  \n",
       "28      109168.54  \n",
       "90      105384.43  \n",
       "37      103907.82  "
      ]
     },
     "execution_count": 132,
     "metadata": {},
     "output_type": "execute_result"
    }
   ],
   "source": [
    "df.sort_values(\"total_amount\",ascending = False).head(10)"
   ]
  },
  {
   "cell_type": "markdown",
   "metadata": {},
   "source": [
    "# Revisando el tiempo de duracion de las 5 zonas que mas recaudan"
   ]
  },
  {
   "cell_type": "markdown",
   "metadata": {},
   "source": [
    "**1**"
   ]
  },
  {
   "cell_type": "code",
   "execution_count": 160,
   "metadata": {},
   "outputs": [
    {
     "data": {
      "text/html": [
       "<div>\n",
       "<style scoped>\n",
       "    .dataframe tbody tr th:only-of-type {\n",
       "        vertical-align: middle;\n",
       "    }\n",
       "\n",
       "    .dataframe tbody tr th {\n",
       "        vertical-align: top;\n",
       "    }\n",
       "\n",
       "    .dataframe thead th {\n",
       "        text-align: right;\n",
       "    }\n",
       "</style>\n",
       "<table border=\"1\" class=\"dataframe\">\n",
       "  <thead>\n",
       "    <tr style=\"text-align: right;\">\n",
       "      <th></th>\n",
       "      <th>DOLocationID</th>\n",
       "      <th>total_amount</th>\n",
       "      <th>amount_median</th>\n",
       "      <th>time_duration_median</th>\n",
       "      <th>pred_time_duration_median</th>\n",
       "    </tr>\n",
       "  </thead>\n",
       "  <tbody>\n",
       "    <tr>\n",
       "      <th>0</th>\n",
       "      <td>75</td>\n",
       "      <td>17232.00</td>\n",
       "      <td>8.30</td>\n",
       "      <td>6.975000</td>\n",
       "      <td>12.310833</td>\n",
       "    </tr>\n",
       "    <tr>\n",
       "      <th>1</th>\n",
       "      <td>236</td>\n",
       "      <td>13288.92</td>\n",
       "      <td>11.80</td>\n",
       "      <td>10.833333</td>\n",
       "      <td>12.020000</td>\n",
       "    </tr>\n",
       "    <tr>\n",
       "      <th>2</th>\n",
       "      <td>41</td>\n",
       "      <td>12523.84</td>\n",
       "      <td>7.80</td>\n",
       "      <td>6.666667</td>\n",
       "      <td>11.926667</td>\n",
       "    </tr>\n",
       "    <tr>\n",
       "      <th>3</th>\n",
       "      <td>42</td>\n",
       "      <td>11840.45</td>\n",
       "      <td>8.80</td>\n",
       "      <td>7.666667</td>\n",
       "      <td>12.558333</td>\n",
       "    </tr>\n",
       "    <tr>\n",
       "      <th>4</th>\n",
       "      <td>166</td>\n",
       "      <td>11016.48</td>\n",
       "      <td>11.30</td>\n",
       "      <td>11.283333</td>\n",
       "      <td>11.950000</td>\n",
       "    </tr>\n",
       "    <tr>\n",
       "      <th>5</th>\n",
       "      <td>263</td>\n",
       "      <td>10706.53</td>\n",
       "      <td>12.30</td>\n",
       "      <td>10.750000</td>\n",
       "      <td>12.741667</td>\n",
       "    </tr>\n",
       "    <tr>\n",
       "      <th>6</th>\n",
       "      <td>74</td>\n",
       "      <td>9243.05</td>\n",
       "      <td>6.80</td>\n",
       "      <td>5.316667</td>\n",
       "      <td>11.804167</td>\n",
       "    </tr>\n",
       "    <tr>\n",
       "      <th>7</th>\n",
       "      <td>238</td>\n",
       "      <td>7200.93</td>\n",
       "      <td>15.30</td>\n",
       "      <td>15.016667</td>\n",
       "      <td>12.788333</td>\n",
       "    </tr>\n",
       "    <tr>\n",
       "      <th>8</th>\n",
       "      <td>239</td>\n",
       "      <td>6002.64</td>\n",
       "      <td>16.80</td>\n",
       "      <td>16.866667</td>\n",
       "      <td>11.525000</td>\n",
       "    </tr>\n",
       "    <tr>\n",
       "      <th>9</th>\n",
       "      <td>151</td>\n",
       "      <td>5810.25</td>\n",
       "      <td>12.96</td>\n",
       "      <td>13.025000</td>\n",
       "      <td>11.784167</td>\n",
       "    </tr>\n",
       "  </tbody>\n",
       "</table>\n",
       "</div>"
      ],
      "text/plain": [
       "   DOLocationID  total_amount  amount_median  time_duration_median  \\\n",
       "0            75      17232.00           8.30              6.975000   \n",
       "1           236      13288.92          11.80             10.833333   \n",
       "2            41      12523.84           7.80              6.666667   \n",
       "3            42      11840.45           8.80              7.666667   \n",
       "4           166      11016.48          11.30             11.283333   \n",
       "5           263      10706.53          12.30             10.750000   \n",
       "6            74       9243.05           6.80              5.316667   \n",
       "7           238       7200.93          15.30             15.016667   \n",
       "8           239       6002.64          16.80             16.866667   \n",
       "9           151       5810.25          12.96             13.025000   \n",
       "\n",
       "   pred_time_duration_median  \n",
       "0                  12.310833  \n",
       "1                  12.020000  \n",
       "2                  11.926667  \n",
       "3                  12.558333  \n",
       "4                  11.950000  \n",
       "5                  12.741667  \n",
       "6                  11.804167  \n",
       "7                  12.788333  \n",
       "8                  11.525000  \n",
       "9                  11.784167  "
      ]
     },
     "execution_count": 160,
     "metadata": {},
     "output_type": "execute_result"
    }
   ],
   "source": [
    "amount_max = datos_sample_test[datos_sample_test[\"PULocationID\"] == 74]\n",
    "\n",
    "amount_max_a = amount_max.groupby(\"DOLocationID\")[[\"total_amount\"]].sum().reset_index().sort_values(\"total_amount\",ascending = False)\n",
    "amount_max_m = amount_max.groupby(\"DOLocationID\")[[\"total_amount\",\"time_duration\",\"pred_time_duration\"]].median().reset_index()\n",
    "amount_max_m.columns = [\"DOLocationID\",\"amount_median\",\"time_duration_median\",\"pred_time_duration_median\"]\n",
    "amount_max_m[\"time_duration_median\"] = amount_max_m[\"time_duration_median\"] / 60\n",
    "amount_max_m[\"pred_time_duration_median\"] = amount_max_m[\"pred_time_duration_median\"] / 60\n",
    "\n",
    "amount_max_f = amount_max_a.merge(amount_max_m)\n",
    "amount_max_f.head(10)"
   ]
  },
  {
   "cell_type": "markdown",
   "metadata": {},
   "source": [
    "**2**"
   ]
  },
  {
   "cell_type": "code",
   "execution_count": 161,
   "metadata": {},
   "outputs": [
    {
     "data": {
      "text/html": [
       "<div>\n",
       "<style scoped>\n",
       "    .dataframe tbody tr th:only-of-type {\n",
       "        vertical-align: middle;\n",
       "    }\n",
       "\n",
       "    .dataframe tbody tr th {\n",
       "        vertical-align: top;\n",
       "    }\n",
       "\n",
       "    .dataframe thead th {\n",
       "        text-align: right;\n",
       "    }\n",
       "</style>\n",
       "<table border=\"1\" class=\"dataframe\">\n",
       "  <thead>\n",
       "    <tr style=\"text-align: right;\">\n",
       "      <th></th>\n",
       "      <th>DOLocationID</th>\n",
       "      <th>total_amount</th>\n",
       "      <th>amount_median</th>\n",
       "      <th>time_duration_median</th>\n",
       "      <th>pred_time_duration_median</th>\n",
       "    </tr>\n",
       "  </thead>\n",
       "  <tbody>\n",
       "    <tr>\n",
       "      <th>0</th>\n",
       "      <td>74</td>\n",
       "      <td>19445.82</td>\n",
       "      <td>7.820</td>\n",
       "      <td>5.550000</td>\n",
       "      <td>11.852500</td>\n",
       "    </tr>\n",
       "    <tr>\n",
       "      <th>1</th>\n",
       "      <td>75</td>\n",
       "      <td>8605.15</td>\n",
       "      <td>7.200</td>\n",
       "      <td>5.483333</td>\n",
       "      <td>12.230000</td>\n",
       "    </tr>\n",
       "    <tr>\n",
       "      <th>2</th>\n",
       "      <td>236</td>\n",
       "      <td>8331.39</td>\n",
       "      <td>8.160</td>\n",
       "      <td>6.333333</td>\n",
       "      <td>11.351667</td>\n",
       "    </tr>\n",
       "    <tr>\n",
       "      <th>3</th>\n",
       "      <td>41</td>\n",
       "      <td>8155.17</td>\n",
       "      <td>8.760</td>\n",
       "      <td>6.933333</td>\n",
       "      <td>12.175000</td>\n",
       "    </tr>\n",
       "    <tr>\n",
       "      <th>4</th>\n",
       "      <td>42</td>\n",
       "      <td>7863.92</td>\n",
       "      <td>11.300</td>\n",
       "      <td>10.050000</td>\n",
       "      <td>12.460000</td>\n",
       "    </tr>\n",
       "    <tr>\n",
       "      <th>5</th>\n",
       "      <td>263</td>\n",
       "      <td>6858.02</td>\n",
       "      <td>8.800</td>\n",
       "      <td>7.000000</td>\n",
       "      <td>11.863333</td>\n",
       "    </tr>\n",
       "    <tr>\n",
       "      <th>6</th>\n",
       "      <td>238</td>\n",
       "      <td>6771.18</td>\n",
       "      <td>9.800</td>\n",
       "      <td>7.716667</td>\n",
       "      <td>12.216667</td>\n",
       "    </tr>\n",
       "    <tr>\n",
       "      <th>7</th>\n",
       "      <td>237</td>\n",
       "      <td>5361.66</td>\n",
       "      <td>12.300</td>\n",
       "      <td>11.466667</td>\n",
       "      <td>12.434167</td>\n",
       "    </tr>\n",
       "    <tr>\n",
       "      <th>8</th>\n",
       "      <td>166</td>\n",
       "      <td>4541.75</td>\n",
       "      <td>11.370</td>\n",
       "      <td>10.825000</td>\n",
       "      <td>12.230833</td>\n",
       "    </tr>\n",
       "    <tr>\n",
       "      <th>9</th>\n",
       "      <td>141</td>\n",
       "      <td>3891.79</td>\n",
       "      <td>12.355</td>\n",
       "      <td>11.716667</td>\n",
       "      <td>12.854167</td>\n",
       "    </tr>\n",
       "  </tbody>\n",
       "</table>\n",
       "</div>"
      ],
      "text/plain": [
       "   DOLocationID  total_amount  amount_median  time_duration_median  \\\n",
       "0            74      19445.82          7.820              5.550000   \n",
       "1            75       8605.15          7.200              5.483333   \n",
       "2           236       8331.39          8.160              6.333333   \n",
       "3            41       8155.17          8.760              6.933333   \n",
       "4            42       7863.92         11.300             10.050000   \n",
       "5           263       6858.02          8.800              7.000000   \n",
       "6           238       6771.18          9.800              7.716667   \n",
       "7           237       5361.66         12.300             11.466667   \n",
       "8           166       4541.75         11.370             10.825000   \n",
       "9           141       3891.79         12.355             11.716667   \n",
       "\n",
       "   pred_time_duration_median  \n",
       "0                  11.852500  \n",
       "1                  12.230000  \n",
       "2                  11.351667  \n",
       "3                  12.175000  \n",
       "4                  12.460000  \n",
       "5                  11.863333  \n",
       "6                  12.216667  \n",
       "7                  12.434167  \n",
       "8                  12.230833  \n",
       "9                  12.854167  "
      ]
     },
     "execution_count": 161,
     "metadata": {},
     "output_type": "execute_result"
    }
   ],
   "source": [
    "amount_max = datos_sample_test[datos_sample_test[\"PULocationID\"] == 75]\n",
    "\n",
    "amount_max_a = amount_max.groupby(\"DOLocationID\")[[\"total_amount\"]].sum().reset_index().sort_values(\"total_amount\",ascending = False)\n",
    "amount_max_m = amount_max.groupby(\"DOLocationID\")[[\"total_amount\",\"time_duration\",\"pred_time_duration\"]].median().reset_index()\n",
    "amount_max_m.columns = [\"DOLocationID\",\"amount_median\",\"time_duration_median\",\"pred_time_duration_median\"]\n",
    "amount_max_m[\"time_duration_median\"] = amount_max_m[\"time_duration_median\"] / 60\n",
    "amount_max_m[\"pred_time_duration_median\"] = amount_max_m[\"pred_time_duration_median\"] / 60\n",
    "\n",
    "amount_max_f = amount_max_a.merge(amount_max_m)\n",
    "amount_max_f.head(10)"
   ]
  },
  {
   "cell_type": "markdown",
   "metadata": {},
   "source": [
    "**3**"
   ]
  },
  {
   "cell_type": "code",
   "execution_count": 162,
   "metadata": {},
   "outputs": [
    {
     "data": {
      "text/html": [
       "<div>\n",
       "<style scoped>\n",
       "    .dataframe tbody tr th:only-of-type {\n",
       "        vertical-align: middle;\n",
       "    }\n",
       "\n",
       "    .dataframe tbody tr th {\n",
       "        vertical-align: top;\n",
       "    }\n",
       "\n",
       "    .dataframe thead th {\n",
       "        text-align: right;\n",
       "    }\n",
       "</style>\n",
       "<table border=\"1\" class=\"dataframe\">\n",
       "  <thead>\n",
       "    <tr style=\"text-align: right;\">\n",
       "      <th></th>\n",
       "      <th>DOLocationID</th>\n",
       "      <th>total_amount</th>\n",
       "      <th>amount_median</th>\n",
       "      <th>time_duration_median</th>\n",
       "      <th>pred_time_duration_median</th>\n",
       "    </tr>\n",
       "  </thead>\n",
       "  <tbody>\n",
       "    <tr>\n",
       "      <th>0</th>\n",
       "      <td>42</td>\n",
       "      <td>19034.76</td>\n",
       "      <td>7.80</td>\n",
       "      <td>5.933333</td>\n",
       "      <td>11.981667</td>\n",
       "    </tr>\n",
       "    <tr>\n",
       "      <th>1</th>\n",
       "      <td>74</td>\n",
       "      <td>14208.62</td>\n",
       "      <td>8.16</td>\n",
       "      <td>6.916667</td>\n",
       "      <td>12.145833</td>\n",
       "    </tr>\n",
       "    <tr>\n",
       "      <th>2</th>\n",
       "      <td>41</td>\n",
       "      <td>8303.15</td>\n",
       "      <td>6.80</td>\n",
       "      <td>4.683333</td>\n",
       "      <td>12.103333</td>\n",
       "    </tr>\n",
       "    <tr>\n",
       "      <th>3</th>\n",
       "      <td>166</td>\n",
       "      <td>7710.64</td>\n",
       "      <td>7.88</td>\n",
       "      <td>6.316667</td>\n",
       "      <td>12.471667</td>\n",
       "    </tr>\n",
       "    <tr>\n",
       "      <th>4</th>\n",
       "      <td>75</td>\n",
       "      <td>6363.52</td>\n",
       "      <td>8.80</td>\n",
       "      <td>8.216667</td>\n",
       "      <td>12.283333</td>\n",
       "    </tr>\n",
       "    <tr>\n",
       "      <th>5</th>\n",
       "      <td>116</td>\n",
       "      <td>6103.65</td>\n",
       "      <td>10.30</td>\n",
       "      <td>9.050000</td>\n",
       "      <td>12.048333</td>\n",
       "    </tr>\n",
       "    <tr>\n",
       "      <th>6</th>\n",
       "      <td>238</td>\n",
       "      <td>4851.96</td>\n",
       "      <td>10.80</td>\n",
       "      <td>9.700000</td>\n",
       "      <td>11.850000</td>\n",
       "    </tr>\n",
       "    <tr>\n",
       "      <th>7</th>\n",
       "      <td>244</td>\n",
       "      <td>4838.52</td>\n",
       "      <td>14.75</td>\n",
       "      <td>14.683333</td>\n",
       "      <td>12.410000</td>\n",
       "    </tr>\n",
       "    <tr>\n",
       "      <th>8</th>\n",
       "      <td>152</td>\n",
       "      <td>3992.79</td>\n",
       "      <td>8.30</td>\n",
       "      <td>7.033333</td>\n",
       "      <td>12.358333</td>\n",
       "    </tr>\n",
       "    <tr>\n",
       "      <th>9</th>\n",
       "      <td>151</td>\n",
       "      <td>3847.24</td>\n",
       "      <td>9.12</td>\n",
       "      <td>7.616667</td>\n",
       "      <td>12.075000</td>\n",
       "    </tr>\n",
       "  </tbody>\n",
       "</table>\n",
       "</div>"
      ],
      "text/plain": [
       "   DOLocationID  total_amount  amount_median  time_duration_median  \\\n",
       "0            42      19034.76           7.80              5.933333   \n",
       "1            74      14208.62           8.16              6.916667   \n",
       "2            41       8303.15           6.80              4.683333   \n",
       "3           166       7710.64           7.88              6.316667   \n",
       "4            75       6363.52           8.80              8.216667   \n",
       "5           116       6103.65          10.30              9.050000   \n",
       "6           238       4851.96          10.80              9.700000   \n",
       "7           244       4838.52          14.75             14.683333   \n",
       "8           152       3992.79           8.30              7.033333   \n",
       "9           151       3847.24           9.12              7.616667   \n",
       "\n",
       "   pred_time_duration_median  \n",
       "0                  11.981667  \n",
       "1                  12.145833  \n",
       "2                  12.103333  \n",
       "3                  12.471667  \n",
       "4                  12.283333  \n",
       "5                  12.048333  \n",
       "6                  11.850000  \n",
       "7                  12.410000  \n",
       "8                  12.358333  \n",
       "9                  12.075000  "
      ]
     },
     "execution_count": 162,
     "metadata": {},
     "output_type": "execute_result"
    }
   ],
   "source": [
    "amount_max = datos_sample_test[datos_sample_test[\"PULocationID\"] == 41]\n",
    "\n",
    "amount_max_a = amount_max.groupby(\"DOLocationID\")[[\"total_amount\"]].sum().reset_index().sort_values(\"total_amount\",ascending = False)\n",
    "amount_max_m = amount_max.groupby(\"DOLocationID\")[[\"total_amount\",\"time_duration\",\"pred_time_duration\"]].median().reset_index()\n",
    "amount_max_m.columns = [\"DOLocationID\",\"amount_median\",\"time_duration_median\",\"pred_time_duration_median\"]\n",
    "amount_max_m[\"time_duration_median\"] = amount_max_m[\"time_duration_median\"] / 60\n",
    "amount_max_m[\"pred_time_duration_median\"] = amount_max_m[\"pred_time_duration_median\"] / 60\n",
    "\n",
    "amount_max_f = amount_max_a.merge(amount_max_m)\n",
    "amount_max_f.head(10)"
   ]
  },
  {
   "cell_type": "markdown",
   "metadata": {},
   "source": [
    "**4**"
   ]
  },
  {
   "cell_type": "code",
   "execution_count": 163,
   "metadata": {},
   "outputs": [
    {
     "data": {
      "text/html": [
       "<div>\n",
       "<style scoped>\n",
       "    .dataframe tbody tr th:only-of-type {\n",
       "        vertical-align: middle;\n",
       "    }\n",
       "\n",
       "    .dataframe tbody tr th {\n",
       "        vertical-align: top;\n",
       "    }\n",
       "\n",
       "    .dataframe thead th {\n",
       "        text-align: right;\n",
       "    }\n",
       "</style>\n",
       "<table border=\"1\" class=\"dataframe\">\n",
       "  <thead>\n",
       "    <tr style=\"text-align: right;\">\n",
       "      <th></th>\n",
       "      <th>DOLocationID</th>\n",
       "      <th>total_amount</th>\n",
       "      <th>amount_median</th>\n",
       "      <th>time_duration_median</th>\n",
       "      <th>pred_time_duration_median</th>\n",
       "    </tr>\n",
       "  </thead>\n",
       "  <tbody>\n",
       "    <tr>\n",
       "      <th>0</th>\n",
       "      <td>129</td>\n",
       "      <td>20297.70</td>\n",
       "      <td>9.300</td>\n",
       "      <td>8.366667</td>\n",
       "      <td>12.260833</td>\n",
       "    </tr>\n",
       "    <tr>\n",
       "      <th>1</th>\n",
       "      <td>82</td>\n",
       "      <td>12892.73</td>\n",
       "      <td>8.300</td>\n",
       "      <td>7.733333</td>\n",
       "      <td>11.906667</td>\n",
       "    </tr>\n",
       "    <tr>\n",
       "      <th>2</th>\n",
       "      <td>138</td>\n",
       "      <td>8044.84</td>\n",
       "      <td>15.800</td>\n",
       "      <td>11.283333</td>\n",
       "      <td>12.395833</td>\n",
       "    </tr>\n",
       "    <tr>\n",
       "      <th>3</th>\n",
       "      <td>56</td>\n",
       "      <td>7740.44</td>\n",
       "      <td>9.325</td>\n",
       "      <td>9.191667</td>\n",
       "      <td>11.804167</td>\n",
       "    </tr>\n",
       "    <tr>\n",
       "      <th>4</th>\n",
       "      <td>173</td>\n",
       "      <td>6144.30</td>\n",
       "      <td>9.800</td>\n",
       "      <td>10.416667</td>\n",
       "      <td>12.318333</td>\n",
       "    </tr>\n",
       "    <tr>\n",
       "      <th>5</th>\n",
       "      <td>260</td>\n",
       "      <td>5774.27</td>\n",
       "      <td>9.300</td>\n",
       "      <td>8.966667</td>\n",
       "      <td>11.975000</td>\n",
       "    </tr>\n",
       "    <tr>\n",
       "      <th>6</th>\n",
       "      <td>226</td>\n",
       "      <td>4958.97</td>\n",
       "      <td>13.300</td>\n",
       "      <td>13.566667</td>\n",
       "      <td>11.733333</td>\n",
       "    </tr>\n",
       "    <tr>\n",
       "      <th>7</th>\n",
       "      <td>70</td>\n",
       "      <td>4217.40</td>\n",
       "      <td>13.300</td>\n",
       "      <td>11.683333</td>\n",
       "      <td>11.923333</td>\n",
       "    </tr>\n",
       "    <tr>\n",
       "      <th>8</th>\n",
       "      <td>157</td>\n",
       "      <td>4032.70</td>\n",
       "      <td>10.300</td>\n",
       "      <td>9.291667</td>\n",
       "      <td>12.069167</td>\n",
       "    </tr>\n",
       "    <tr>\n",
       "      <th>9</th>\n",
       "      <td>95</td>\n",
       "      <td>3998.31</td>\n",
       "      <td>11.800</td>\n",
       "      <td>11.425000</td>\n",
       "      <td>11.989167</td>\n",
       "    </tr>\n",
       "  </tbody>\n",
       "</table>\n",
       "</div>"
      ],
      "text/plain": [
       "   DOLocationID  total_amount  amount_median  time_duration_median  \\\n",
       "0           129      20297.70          9.300              8.366667   \n",
       "1            82      12892.73          8.300              7.733333   \n",
       "2           138       8044.84         15.800             11.283333   \n",
       "3            56       7740.44          9.325              9.191667   \n",
       "4           173       6144.30          9.800             10.416667   \n",
       "5           260       5774.27          9.300              8.966667   \n",
       "6           226       4958.97         13.300             13.566667   \n",
       "7            70       4217.40         13.300             11.683333   \n",
       "8           157       4032.70         10.300              9.291667   \n",
       "9            95       3998.31         11.800             11.425000   \n",
       "\n",
       "   pred_time_duration_median  \n",
       "0                  12.260833  \n",
       "1                  11.906667  \n",
       "2                  12.395833  \n",
       "3                  11.804167  \n",
       "4                  12.318333  \n",
       "5                  11.975000  \n",
       "6                  11.733333  \n",
       "7                  11.923333  \n",
       "8                  12.069167  \n",
       "9                  11.989167  "
      ]
     },
     "execution_count": 163,
     "metadata": {},
     "output_type": "execute_result"
    }
   ],
   "source": [
    "amount_max = datos_sample_test[datos_sample_test[\"PULocationID\"] == 82]\n",
    "\n",
    "amount_max_a = amount_max.groupby(\"DOLocationID\")[[\"total_amount\"]].sum().reset_index().sort_values(\"total_amount\",ascending = False)\n",
    "amount_max_m = amount_max.groupby(\"DOLocationID\")[[\"total_amount\",\"time_duration\",\"pred_time_duration\"]].median().reset_index()\n",
    "amount_max_m.columns = [\"DOLocationID\",\"amount_median\",\"time_duration_median\",\"pred_time_duration_median\"]\n",
    "amount_max_m[\"time_duration_median\"] = amount_max_m[\"time_duration_median\"] / 60\n",
    "amount_max_m[\"pred_time_duration_median\"] = amount_max_m[\"pred_time_duration_median\"] / 60\n",
    "\n",
    "amount_max_f = amount_max_a.merge(amount_max_m)\n",
    "amount_max_f.head(10)"
   ]
  },
  {
   "cell_type": "markdown",
   "metadata": {},
   "source": [
    "**5**"
   ]
  },
  {
   "cell_type": "code",
   "execution_count": 164,
   "metadata": {},
   "outputs": [
    {
     "data": {
      "text/html": [
       "<div>\n",
       "<style scoped>\n",
       "    .dataframe tbody tr th:only-of-type {\n",
       "        vertical-align: middle;\n",
       "    }\n",
       "\n",
       "    .dataframe tbody tr th {\n",
       "        vertical-align: top;\n",
       "    }\n",
       "\n",
       "    .dataframe thead th {\n",
       "        text-align: right;\n",
       "    }\n",
       "</style>\n",
       "<table border=\"1\" class=\"dataframe\">\n",
       "  <thead>\n",
       "    <tr style=\"text-align: right;\">\n",
       "      <th></th>\n",
       "      <th>DOLocationID</th>\n",
       "      <th>total_amount</th>\n",
       "      <th>amount_median</th>\n",
       "      <th>time_duration_median</th>\n",
       "      <th>pred_time_duration_median</th>\n",
       "    </tr>\n",
       "  </thead>\n",
       "  <tbody>\n",
       "    <tr>\n",
       "      <th>0</th>\n",
       "      <td>7</td>\n",
       "      <td>20463.78</td>\n",
       "      <td>7.300</td>\n",
       "      <td>5.283333</td>\n",
       "      <td>11.793333</td>\n",
       "    </tr>\n",
       "    <tr>\n",
       "      <th>1</th>\n",
       "      <td>223</td>\n",
       "      <td>14767.83</td>\n",
       "      <td>9.300</td>\n",
       "      <td>8.233333</td>\n",
       "      <td>12.438333</td>\n",
       "    </tr>\n",
       "    <tr>\n",
       "      <th>2</th>\n",
       "      <td>179</td>\n",
       "      <td>9997.96</td>\n",
       "      <td>8.155</td>\n",
       "      <td>6.533333</td>\n",
       "      <td>12.067500</td>\n",
       "    </tr>\n",
       "    <tr>\n",
       "      <th>3</th>\n",
       "      <td>129</td>\n",
       "      <td>7731.39</td>\n",
       "      <td>11.800</td>\n",
       "      <td>11.350000</td>\n",
       "      <td>11.883333</td>\n",
       "    </tr>\n",
       "    <tr>\n",
       "      <th>4</th>\n",
       "      <td>226</td>\n",
       "      <td>6650.51</td>\n",
       "      <td>9.350</td>\n",
       "      <td>8.633333</td>\n",
       "      <td>12.771667</td>\n",
       "    </tr>\n",
       "    <tr>\n",
       "      <th>5</th>\n",
       "      <td>260</td>\n",
       "      <td>5678.48</td>\n",
       "      <td>9.800</td>\n",
       "      <td>8.866667</td>\n",
       "      <td>13.473333</td>\n",
       "    </tr>\n",
       "    <tr>\n",
       "      <th>6</th>\n",
       "      <td>146</td>\n",
       "      <td>4474.58</td>\n",
       "      <td>8.300</td>\n",
       "      <td>6.741667</td>\n",
       "      <td>11.316667</td>\n",
       "    </tr>\n",
       "    <tr>\n",
       "      <th>7</th>\n",
       "      <td>193</td>\n",
       "      <td>3899.86</td>\n",
       "      <td>8.800</td>\n",
       "      <td>7.583333</td>\n",
       "      <td>12.158333</td>\n",
       "    </tr>\n",
       "    <tr>\n",
       "      <th>8</th>\n",
       "      <td>82</td>\n",
       "      <td>3621.83</td>\n",
       "      <td>15.800</td>\n",
       "      <td>17.166667</td>\n",
       "      <td>12.415000</td>\n",
       "    </tr>\n",
       "    <tr>\n",
       "      <th>9</th>\n",
       "      <td>145</td>\n",
       "      <td>3419.25</td>\n",
       "      <td>11.800</td>\n",
       "      <td>11.158333</td>\n",
       "      <td>11.986667</td>\n",
       "    </tr>\n",
       "  </tbody>\n",
       "</table>\n",
       "</div>"
      ],
      "text/plain": [
       "   DOLocationID  total_amount  amount_median  time_duration_median  \\\n",
       "0             7      20463.78          7.300              5.283333   \n",
       "1           223      14767.83          9.300              8.233333   \n",
       "2           179       9997.96          8.155              6.533333   \n",
       "3           129       7731.39         11.800             11.350000   \n",
       "4           226       6650.51          9.350              8.633333   \n",
       "5           260       5678.48          9.800              8.866667   \n",
       "6           146       4474.58          8.300              6.741667   \n",
       "7           193       3899.86          8.800              7.583333   \n",
       "8            82       3621.83         15.800             17.166667   \n",
       "9           145       3419.25         11.800             11.158333   \n",
       "\n",
       "   pred_time_duration_median  \n",
       "0                  11.793333  \n",
       "1                  12.438333  \n",
       "2                  12.067500  \n",
       "3                  11.883333  \n",
       "4                  12.771667  \n",
       "5                  13.473333  \n",
       "6                  11.316667  \n",
       "7                  12.158333  \n",
       "8                  12.415000  \n",
       "9                  11.986667  "
      ]
     },
     "execution_count": 164,
     "metadata": {},
     "output_type": "execute_result"
    }
   ],
   "source": [
    "amount_max = datos_sample_test[datos_sample_test[\"PULocationID\"] == 7]\n",
    "\n",
    "amount_max_a = amount_max.groupby(\"DOLocationID\")[[\"total_amount\"]].sum().reset_index().sort_values(\"total_amount\",ascending = False)\n",
    "amount_max_m = amount_max.groupby(\"DOLocationID\")[[\"total_amount\",\"time_duration\",\"pred_time_duration\"]].median().reset_index()\n",
    "amount_max_m.columns = [\"DOLocationID\",\"amount_median\",\"time_duration_median\",\"pred_time_duration_median\"]\n",
    "amount_max_m[\"time_duration_median\"] = amount_max_m[\"time_duration_median\"] / 60\n",
    "amount_max_m[\"pred_time_duration_median\"] = amount_max_m[\"pred_time_duration_median\"] / 60\n",
    "\n",
    "amount_max_f = amount_max_a.merge(amount_max_m)\n",
    "amount_max_f.head(10)"
   ]
  },
  {
   "cell_type": "code",
   "execution_count": null,
   "metadata": {},
   "outputs": [],
   "source": []
  }
 ],
 "metadata": {
  "kernelspec": {
   "display_name": "Python 3",
   "language": "python",
   "name": "python3"
  },
  "language_info": {
   "codemirror_mode": {
    "name": "ipython",
    "version": 3
   },
   "file_extension": ".py",
   "mimetype": "text/x-python",
   "name": "python",
   "nbconvert_exporter": "python",
   "pygments_lexer": "ipython3",
   "version": "3.6.7"
  }
 },
 "nbformat": 4,
 "nbformat_minor": 2
}
